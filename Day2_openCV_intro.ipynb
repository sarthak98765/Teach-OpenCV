{
 "cells": [
  {
   "cell_type": "markdown",
   "id": "51bbe043",
   "metadata": {},
   "source": [
    "## What is OpenCV?"
   ]
  },
  {
   "cell_type": "markdown",
   "id": "a36fdd35",
   "metadata": {},
   "source": [
    "OpenCV, or Open Source Computer Vision Library, is an open-source computer vision and machine learning software library. It provides a wide range of tools and functions that allow developers to work with images and videos, perform various computer vision tasks, and implement machine learning algorithms.\n",
    "\n",
    "Key features of OpenCV include:\n",
    "\n",
    "- Image and Video Processing: OpenCV provides functions for reading, writing, and processing images and videos. It supports various image formats and video codecs.\n",
    "- Computer Vision Algorithms: OpenCV includes a collection of computer vision algorithms for tasks such as image filtering, edge detection, feature extraction, object recognition, and more.\n",
    "- Machine Learning Support: OpenCV integrates with machine learning frameworks like TensorFlow and PyTorch, and it includes machine learning tools for tasks such as object detection, facial recognition, and image classification.\n",
    "- Camera Calibration: OpenCV provides tools for camera calibration, which is essential for computer vision applications that require accurate geometric information.\n",
    "- Multi-threading: OpenCV supports multi-threading, allowing developers to take advantage of parallel processing for faster execution.\n",
    "- Cross-platform: OpenCV is cross-platform and can be used on various operating systems, including Windows, Linux, and macOS."
   ]
  },
  {
   "cell_type": "code",
   "execution_count": 2,
   "id": "3eadc834",
   "metadata": {},
   "outputs": [],
   "source": [
    "import cv2\n",
    "import numpy as np"
   ]
  },
  {
   "cell_type": "markdown",
   "id": "fa8b7eb2",
   "metadata": {},
   "source": [
    "### 1) Loading an Image "
   ]
  },
  {
   "cell_type": "markdown",
   "id": "2045150b",
   "metadata": {},
   "source": [
    "- -1 or cv2.IMREAD_COLOR: Loads a colour image. Any transparency of image will be neglected. It is the default flag\n",
    "- 0 or cv2.IMREAD_GREYSCALE: Loads image in greyscale mode\n",
    "- 1 or cv2.IMREAD_UNCHANGED: Loads image as such alpha particle"
   ]
  },
  {
   "cell_type": "code",
   "execution_count": 3,
   "id": "3802f157",
   "metadata": {},
   "outputs": [],
   "source": [
    "img=cv2.imread(\"PV/elon_musk.jpg\",-1)"
   ]
  },
  {
   "cell_type": "markdown",
   "id": "aa9d042f",
   "metadata": {},
   "source": [
    "### 2) Displaying the image"
   ]
  },
  {
   "cell_type": "code",
   "execution_count": 8,
   "id": "bae6ab2b",
   "metadata": {},
   "outputs": [],
   "source": [
    "cv2.imshow(\"Image\", img)\n",
    "# cv2.imshow(\"window_name\", image)--- It creates a window to display the image\n",
    "\n",
    "cv2.waitKey(10000)\n",
    "# # cv2.waitKey(5)-- wait 5 milliseconds and shut the window\n",
    "# # cv2.waitKey(0)--waits infinite time and when we press a key, windows shuts\n",
    "\n",
    "cv2.destroyAllWindows()\n",
    "# # shuts all window"
   ]
  },
  {
   "cell_type": "markdown",
   "id": "904dd6ce",
   "metadata": {},
   "source": [
    "### 3) Accesing Video "
   ]
  },
  {
   "cell_type": "code",
   "execution_count": 13,
   "id": "b07ccf7d",
   "metadata": {},
   "outputs": [],
   "source": [
    "cap=cv2.VideoCapture(\"PV/test.mp4\")   #  initializes a video capture object (cap) using the default camera (camera index 0)\n",
    "\n",
    "\n",
    "while True:\n",
    "    ret, frame = cap.read()  # ret is a boolean indicating whether the frame was successfully read and 'frame' contains the image\n",
    "    frame=cv2.resize(frame,(640,480))\n",
    "    cv2.imshow(\"image\", frame)\n",
    "    \n",
    "    if cv2.waitKey(1)==ord('q'): # If the key pressed is 'q', the loop is exited, and the program proceeds to the next line\n",
    "        break\n",
    "        \n",
    "cap.release()  # This releases the video capture object, freeing up system resources associated with it\n",
    "cv2.destroyAllWindows()"
   ]
  },
  {
   "cell_type": "markdown",
   "id": "5fccb154",
   "metadata": {},
   "source": [
    "### 4) Accessing WebCam"
   ]
  },
  {
   "cell_type": "code",
   "execution_count": 14,
   "id": "b889fd61",
   "metadata": {},
   "outputs": [],
   "source": [
    "cap=cv2.VideoCapture(0)\n",
    "cap.set(3,640)  # width\n",
    "cap.set(4,480)  # height\n",
    "cap.set(10,100)  # brightness\n",
    "\n",
    "while True:\n",
    "    success, vid=cap.read()\n",
    "    cv2.imshow(\"Video\",vid)\n",
    "    if cv2.waitKey(1) == ord('q'):\n",
    "        break\n",
    "cap.release()\n",
    "cv2.destroyAllWindows()"
   ]
  },
  {
   "cell_type": "markdown",
   "id": "7e97662b",
   "metadata": {},
   "source": [
    "### 5) Representation of an Image and its Characteristics"
   ]
  },
  {
   "cell_type": "code",
   "execution_count": 15,
   "id": "dba083fe",
   "metadata": {},
   "outputs": [
    {
     "name": "stdout",
     "output_type": "stream",
     "text": [
      "[[[17 12 11]\n",
      "  [22 14 14]\n",
      "  [22 15 12]\n",
      "  ...\n",
      "  [ 3  1  1]\n",
      "  [ 3  1  1]\n",
      "  [ 2  0  0]]\n",
      "\n",
      " [[19 14 13]\n",
      "  [21 13 13]\n",
      "  [20 13 10]\n",
      "  ...\n",
      "  [ 5  3  3]\n",
      "  [ 4  2  2]\n",
      "  [ 3  1  1]]\n",
      "\n",
      " [[17 12 11]\n",
      "  [15 10  9]\n",
      "  [16  9  6]\n",
      "  ...\n",
      "  [ 5  3  3]\n",
      "  [ 4  2  2]\n",
      "  [ 3  1  1]]\n",
      "\n",
      " ...\n",
      "\n",
      " [[23 17 18]\n",
      "  [17 11 12]\n",
      "  [11  5  6]\n",
      "  ...\n",
      "  [24 16 16]\n",
      "  [27 19 19]\n",
      "  [27 19 19]]\n",
      "\n",
      " [[17 11 12]\n",
      "  [15  9 10]\n",
      "  [14  8  9]\n",
      "  ...\n",
      "  [29 21 21]\n",
      "  [33 25 25]\n",
      "  [33 25 25]]\n",
      "\n",
      " [[15  9 10]\n",
      "  [15  9 10]\n",
      "  [16 10 11]\n",
      "  ...\n",
      "  [37 30 27]\n",
      "  [39 32 29]\n",
      "  [38 31 28]]]\n"
     ]
    }
   ],
   "source": [
    "print(img)"
   ]
  },
  {
   "cell_type": "code",
   "execution_count": 16,
   "id": "444fc9fd",
   "metadata": {},
   "outputs": [
    {
     "data": {
      "text/plain": [
       "numpy.ndarray"
      ]
     },
     "execution_count": 16,
     "metadata": {},
     "output_type": "execute_result"
    }
   ],
   "source": [
    "type(img)"
   ]
  },
  {
   "cell_type": "markdown",
   "id": "7e0d263b",
   "metadata": {},
   "source": [
    "Image is actually a numpy array\n",
    "- OpenCV extracts the pixels from the image and load it in numpy"
   ]
  },
  {
   "cell_type": "code",
   "execution_count": 17,
   "id": "3320f376",
   "metadata": {},
   "outputs": [
    {
     "data": {
      "text/plain": [
       "(1197, 907, 3)"
      ]
     },
     "execution_count": 17,
     "metadata": {},
     "output_type": "execute_result"
    }
   ],
   "source": [
    "img.shape"
   ]
  },
  {
   "cell_type": "markdown",
   "id": "e5d16aa2",
   "metadata": {},
   "source": [
    "shape is (x,y,z)\n",
    "- x= no. of rows/ height of the image\n",
    "- y= no. of columns/ width of image\n",
    "- z= no. of channels - no. of values storing each pixel"
   ]
  },
  {
   "cell_type": "markdown",
   "id": "555c5bee",
   "metadata": {},
   "source": [
    "- 3 channels is due to the colour- BGR\n",
    "- standard is RGB but openCV uses BGR,i.e, blue green red\n",
    "- [x,y,z] pixel represents x amt of blue, y amt. of green and z amt. of red in the pixel\n",
    "- 0-zero, 255-one.....range is (0-255)\n",
    "- [255,0,0] represents all blue and none green n red\n",
    "- [122,0,0] represents some blue and no green n red"
   ]
  },
  {
   "cell_type": "markdown",
   "id": "56fbb236",
   "metadata": {},
   "source": [
    "### 6) Resize an image"
   ]
  },
  {
   "cell_type": "code",
   "execution_count": 20,
   "id": "815133d6",
   "metadata": {},
   "outputs": [],
   "source": [
    "img2=cv2.resize(img,(540,480))\n",
    "# cv2.resize(img,(len,bredth))"
   ]
  },
  {
   "cell_type": "code",
   "execution_count": 21,
   "id": "f2d5b710",
   "metadata": {},
   "outputs": [],
   "source": [
    "cv2.imshow(\"Image1\",img2)\n",
    "cv2.waitKey(0)\n",
    "cv2.destroyAllWindows()"
   ]
  },
  {
   "cell_type": "code",
   "execution_count": 7,
   "id": "35b673de",
   "metadata": {},
   "outputs": [],
   "source": [
    "# if you want to double the size then fx=2,fy=2 and if half then fx=0.5,fy=0.5\n",
    "img3=cv2.resize(img2,(0,0),fx=1.2,fy=1.2)\n",
    "cv2.imshow(\"Image1\",img3)\n",
    "cv2.waitKey(0)\n",
    "cv2.destroyAllWindows()"
   ]
  },
  {
   "cell_type": "markdown",
   "id": "6e29dbc5",
   "metadata": {},
   "source": [
    "### 7) Rotating an Image"
   ]
  },
  {
   "cell_type": "code",
   "execution_count": 23,
   "id": "30783d09",
   "metadata": {},
   "outputs": [],
   "source": [
    "img4=cv2.rotate(img2, cv2.ROTATE_90_COUNTERCLOCKWISE)\n",
    "cv2.imshow(\"Image1\",img4)\n",
    "cv2.waitKey(0)\n",
    "cv2.destroyAllWindows()"
   ]
  },
  {
   "cell_type": "code",
   "execution_count": 24,
   "id": "102c545f",
   "metadata": {},
   "outputs": [],
   "source": [
    "# Specify the rotation angle (in degrees)\n",
    "angle = 30\n",
    "\n",
    "# Get the image dimensions\n",
    "height, width = img2.shape[:2]\n",
    "\n",
    "# Calculate the rotation matrix\n",
    "rotation_matrix = cv2.getRotationMatrix2D((width / 2, height / 2), angle, 1)\n",
    "\n",
    "# Apply the rotation to the image\n",
    "rotated_image = cv2.warpAffine(img2, rotation_matrix, (width, height))\n",
    "\n",
    "# Display the original and rotated images\n",
    "cv2.imshow(\"Original Image\", img2)\n",
    "cv2.imshow(\"Rotated Image\", rotated_image)\n",
    "\n",
    "cv2.waitKey(0)\n",
    "cv2.destroyAllWindows()"
   ]
  },
  {
   "cell_type": "markdown",
   "id": "a46bab04",
   "metadata": {},
   "source": [
    "### 8) GrayScale image, blur Image and Canny Image"
   ]
  },
  {
   "cell_type": "code",
   "execution_count": 25,
   "id": "e691dae9",
   "metadata": {},
   "outputs": [],
   "source": [
    "img = cv2.imread(\"pv/modi.jpg\",-1)\n",
    "img=cv2.resize(img,(480,480))\n",
    "\n",
    "imggray=cv2.cvtColor(img,cv2.COLOR_BGR2GRAY)\n",
    "imgblur=cv2.GaussianBlur(imggray,(9,9),0)\n",
    "# imgblur3=cv2.GaussianBlur(imggray,(3,3),0)\n",
    "imgcanny=cv2.Canny(imggray,100,100)\n",
    "\n",
    "cv2.imshow(\"Image Gray\",imggray)\n",
    "cv2.imshow(\"Image Blur 3\",imgblur)\n",
    "# cv2.imshow(\"Image Blur 9\",imgblur) # increasing number will increase blurness\n",
    "cv2.imshow(\"Canny Image\",imgcanny)\n",
    "\n",
    "cv2.waitKey(0)\n",
    "cv2.destroyAllWindows()"
   ]
  },
  {
   "cell_type": "markdown",
   "id": "93a9acc9",
   "metadata": {},
   "source": [
    "### 9) Adding Shapes and Text to an Image"
   ]
  },
  {
   "cell_type": "code",
   "execution_count": null,
   "id": "48671b8d",
   "metadata": {},
   "outputs": [],
   "source": [
    "img=np.zeros((512,512,3),np.uint8)\n",
    "cv2.line(img,(0,0),(512,512),(255,0,0),2)\n",
    "# cv2.line(source image, (starting coordinate), (ending coordinate), (color of line), (thickness of line))\n",
    "cv2.line(img,(0,512),(512,0),(0,0,255),40)\n",
    "#cv2.rectangle(img,(100,100),(300,300),(0,255,0),cv2.FILLED)\n",
    "cv2.rectangle(img,(100,100),(300,300),(0,255,0),2)\n",
    "\n",
    "cv2.circle(img,(400,400),50,(203, 192, 255),-1)\n",
    "cv2.putText(img,\"OPENCV\",(200,400),cv2.FONT_HERSHEY_SIMPLEX,1,(255,255,255),2)\n",
    "#putText(source,Text,Starting coordinate,font,font_scale,color,thickness)"
   ]
  },
  {
   "cell_type": "code",
   "execution_count": 32,
   "id": "7a4984f7",
   "metadata": {},
   "outputs": [],
   "source": [
    "cv2.imshow(\"Image\",img)\n",
    "cv2.waitKey(0)\n",
    "cv2.destroyAllWindows()"
   ]
  },
  {
   "cell_type": "markdown",
   "id": "450ef01f",
   "metadata": {},
   "source": [
    "### 10) Real time date n time"
   ]
  },
  {
   "cell_type": "code",
   "execution_count": 1,
   "id": "fcf5ad23",
   "metadata": {},
   "outputs": [],
   "source": [
    "import cv2\n",
    "import datetime as dt\n",
    "\n",
    "cap=cv2.VideoCapture(0)\n",
    "\n",
    "while True:\n",
    "    ret, frame = cap.read()\n",
    "    date_time=str(dt.datetime.now())\n",
    "    frame=cv2.putText(frame,date_time,(10,50),cv2.FONT_HERSHEY_SIMPLEX,1,(255,0,0),2,cv2.LINE_AA)\n",
    "    cv2.imshow(\"Video\",frame)\n",
    "    if cv2.waitKey(1)==ord(\"q\"):\n",
    "        break\n",
    "\n",
    "cap.release()\n",
    "cv2.destroyAllWindows()"
   ]
  },
  {
   "cell_type": "markdown",
   "id": "e39e2ab8",
   "metadata": {},
   "source": [
    "### 11) Handle Mouse Events"
   ]
  },
  {
   "cell_type": "code",
   "execution_count": 2,
   "id": "1d3ce4ef",
   "metadata": {},
   "outputs": [
    {
     "name": "stdout",
     "output_type": "stream",
     "text": [
      "Mouse event: 0, Coordinates: (212, 507)\n",
      "Mouse event: 0, Coordinates: (212, 507)\n",
      "Mouse event: 0, Coordinates: (212, 507)\n",
      "Mouse event: 0, Coordinates: (218, 495)\n",
      "Mouse event: 0, Coordinates: (233, 468)\n",
      "Mouse event: 0, Coordinates: (240, 455)\n",
      "Mouse event: 0, Coordinates: (245, 446)\n",
      "Mouse event: 0, Coordinates: (254, 432)\n",
      "Mouse event: 0, Coordinates: (263, 414)\n",
      "Mouse event: 0, Coordinates: (275, 396)\n",
      "Mouse event: 0, Coordinates: (282, 384)\n",
      "Mouse event: 0, Coordinates: (292, 369)\n",
      "Mouse event: 0, Coordinates: (299, 359)\n",
      "Mouse event: 0, Coordinates: (309, 346)\n",
      "Mouse event: 0, Coordinates: (316, 336)\n",
      "Mouse event: 0, Coordinates: (320, 330)\n",
      "Mouse event: 0, Coordinates: (324, 324)\n",
      "Mouse event: 0, Coordinates: (328, 319)\n",
      "Mouse event: 0, Coordinates: (330, 313)\n",
      "Mouse event: 0, Coordinates: (331, 310)\n",
      "Mouse event: 0, Coordinates: (333, 308)\n",
      "Mouse event: 0, Coordinates: (333, 307)\n",
      "Mouse event: 0, Coordinates: (333, 306)\n",
      "Mouse event: 0, Coordinates: (334, 304)\n",
      "Mouse event: 0, Coordinates: (334, 303)\n",
      "Mouse event: 0, Coordinates: (334, 302)\n",
      "Mouse event: 0, Coordinates: (334, 300)\n",
      "Mouse event: 0, Coordinates: (334, 300)\n",
      "Mouse event: 0, Coordinates: (334, 298)\n",
      "Mouse event: 0, Coordinates: (334, 297)\n",
      "Mouse event: 0, Coordinates: (333, 296)\n",
      "Mouse event: 0, Coordinates: (333, 294)\n",
      "Mouse event: 0, Coordinates: (333, 292)\n",
      "Mouse event: 0, Coordinates: (333, 290)\n",
      "Mouse event: 0, Coordinates: (333, 288)\n",
      "Mouse event: 0, Coordinates: (333, 286)\n",
      "Mouse event: 0, Coordinates: (332, 280)\n",
      "Mouse event: 0, Coordinates: (331, 275)\n",
      "Mouse event: 0, Coordinates: (330, 268)\n",
      "Mouse event: 0, Coordinates: (328, 256)\n",
      "Mouse event: 0, Coordinates: (325, 241)\n",
      "Mouse event: 0, Coordinates: (321, 220)\n",
      "Mouse event: 0, Coordinates: (317, 208)\n",
      "Mouse event: 0, Coordinates: (315, 194)\n",
      "Mouse event: 0, Coordinates: (308, 176)\n",
      "Mouse event: 0, Coordinates: (304, 167)\n",
      "Mouse event: 0, Coordinates: (300, 160)\n",
      "Mouse event: 0, Coordinates: (297, 155)\n",
      "Mouse event: 0, Coordinates: (295, 152)\n",
      "Mouse event: 0, Coordinates: (291, 149)\n",
      "Mouse event: 0, Coordinates: (289, 146)\n",
      "Mouse event: 0, Coordinates: (287, 144)\n",
      "Mouse event: 0, Coordinates: (286, 144)\n",
      "Mouse event: 0, Coordinates: (285, 143)\n",
      "Mouse event: 0, Coordinates: (284, 142)\n",
      "Mouse event: 0, Coordinates: (283, 142)\n",
      "Mouse event: 0, Coordinates: (283, 142)\n",
      "Mouse event: 0, Coordinates: (282, 142)\n",
      "Mouse event: 0, Coordinates: (281, 142)\n",
      "Mouse event: 0, Coordinates: (265, 154)\n",
      "Mouse event: 0, Coordinates: (255, 160)\n",
      "Mouse event: 0, Coordinates: (244, 167)\n",
      "Mouse event: 0, Coordinates: (231, 176)\n",
      "Mouse event: 0, Coordinates: (221, 182)\n",
      "Mouse event: 0, Coordinates: (215, 186)\n",
      "Mouse event: 0, Coordinates: (204, 192)\n",
      "Mouse event: 0, Coordinates: (194, 196)\n",
      "Mouse event: 0, Coordinates: (188, 199)\n",
      "Mouse event: 0, Coordinates: (183, 202)\n",
      "Mouse event: 0, Coordinates: (175, 204)\n",
      "Mouse event: 0, Coordinates: (169, 206)\n",
      "Mouse event: 0, Coordinates: (165, 208)\n",
      "Mouse event: 0, Coordinates: (164, 208)\n",
      "Mouse event: 0, Coordinates: (161, 209)\n",
      "Mouse event: 0, Coordinates: (160, 210)\n",
      "Mouse event: 0, Coordinates: (158, 210)\n",
      "Mouse event: 0, Coordinates: (157, 210)\n",
      "Mouse event: 0, Coordinates: (157, 210)\n",
      "Mouse event: 0, Coordinates: (156, 210)\n",
      "Mouse event: 0, Coordinates: (155, 211)\n",
      "Mouse event: 0, Coordinates: (155, 211)\n",
      "Mouse event: 0, Coordinates: (154, 212)\n",
      "Mouse event: 0, Coordinates: (154, 212)\n",
      "Mouse event: 0, Coordinates: (154, 213)\n",
      "Mouse event: 0, Coordinates: (154, 214)\n",
      "Mouse event: 0, Coordinates: (154, 214)\n",
      "Mouse event: 0, Coordinates: (154, 216)\n",
      "Mouse event: 0, Coordinates: (154, 218)\n",
      "Mouse event: 0, Coordinates: (154, 218)\n",
      "Mouse event: 0, Coordinates: (154, 221)\n",
      "Mouse event: 0, Coordinates: (155, 223)\n",
      "Mouse event: 0, Coordinates: (155, 225)\n",
      "Mouse event: 0, Coordinates: (157, 228)\n",
      "Mouse event: 0, Coordinates: (157, 232)\n",
      "Mouse event: 0, Coordinates: (159, 234)\n",
      "Mouse event: 0, Coordinates: (160, 237)\n",
      "Mouse event: 0, Coordinates: (162, 240)\n",
      "Mouse event: 0, Coordinates: (165, 244)\n",
      "Mouse event: 0, Coordinates: (166, 246)\n",
      "Mouse event: 0, Coordinates: (167, 247)\n",
      "Mouse event: 0, Coordinates: (169, 250)\n",
      "Mouse event: 0, Coordinates: (171, 252)\n",
      "Mouse event: 0, Coordinates: (173, 254)\n",
      "Mouse event: 0, Coordinates: (173, 256)\n",
      "Mouse event: 0, Coordinates: (175, 257)\n",
      "Mouse event: 0, Coordinates: (176, 257)\n",
      "Mouse event: 0, Coordinates: (177, 258)\n",
      "Mouse event: 0, Coordinates: (180, 259)\n",
      "Mouse event: 0, Coordinates: (181, 260)\n",
      "Mouse event: 0, Coordinates: (181, 260)\n",
      "Mouse event: 0, Coordinates: (183, 260)\n",
      "Mouse event: 0, Coordinates: (185, 260)\n",
      "Mouse event: 0, Coordinates: (186, 259)\n",
      "Mouse event: 0, Coordinates: (189, 258)\n",
      "Mouse event: 0, Coordinates: (190, 256)\n",
      "Mouse event: 0, Coordinates: (193, 251)\n",
      "Mouse event: 0, Coordinates: (198, 240)\n",
      "Mouse event: 0, Coordinates: (199, 230)\n",
      "Mouse event: 0, Coordinates: (200, 220)\n",
      "Mouse event: 0, Coordinates: (201, 203)\n",
      "Mouse event: 0, Coordinates: (199, 188)\n",
      "Mouse event: 0, Coordinates: (197, 174)\n",
      "Mouse event: 0, Coordinates: (196, 168)\n",
      "Mouse event: 0, Coordinates: (194, 162)\n",
      "Mouse event: 0, Coordinates: (193, 157)\n",
      "Mouse event: 0, Coordinates: (192, 154)\n",
      "Mouse event: 0, Coordinates: (191, 151)\n",
      "Mouse event: 0, Coordinates: (191, 150)\n",
      "Mouse event: 0, Coordinates: (191, 149)\n",
      "Mouse event: 0, Coordinates: (190, 148)\n",
      "Mouse event: 0, Coordinates: (190, 147)\n",
      "Mouse event: 0, Coordinates: (189, 146)\n",
      "Mouse event: 0, Coordinates: (187, 144)\n",
      "Mouse event: 0, Coordinates: (187, 143)\n",
      "Mouse event: 0, Coordinates: (186, 141)\n",
      "Mouse event: 0, Coordinates: (185, 140)\n",
      "Mouse event: 0, Coordinates: (184, 138)\n",
      "Mouse event: 1, Coordinates: (184, 138)\n",
      "Mouse event: 4, Coordinates: (184, 138)\n",
      "Mouse event: 0, Coordinates: (184, 138)\n",
      "Mouse event: 0, Coordinates: (205, 152)\n",
      "Mouse event: 0, Coordinates: (230, 168)\n",
      "Mouse event: 0, Coordinates: (241, 176)\n",
      "Mouse event: 0, Coordinates: (253, 184)\n",
      "Mouse event: 0, Coordinates: (264, 192)\n",
      "Mouse event: 0, Coordinates: (278, 206)\n",
      "Mouse event: 0, Coordinates: (291, 219)\n",
      "Mouse event: 0, Coordinates: (299, 229)\n",
      "Mouse event: 0, Coordinates: (307, 238)\n",
      "Mouse event: 0, Coordinates: (316, 246)\n",
      "Mouse event: 0, Coordinates: (325, 255)\n",
      "Mouse event: 0, Coordinates: (333, 264)\n",
      "Mouse event: 0, Coordinates: (338, 271)\n",
      "Mouse event: 0, Coordinates: (343, 278)\n",
      "Mouse event: 0, Coordinates: (346, 286)\n",
      "Mouse event: 0, Coordinates: (351, 296)\n",
      "Mouse event: 0, Coordinates: (352, 300)\n",
      "Mouse event: 1, Coordinates: (352, 300)\n",
      "Mouse event: 4, Coordinates: (352, 300)\n",
      "Mouse event: 0, Coordinates: (352, 300)\n",
      "Mouse event: 0, Coordinates: (359, 279)\n",
      "Mouse event: 0, Coordinates: (367, 261)\n",
      "Mouse event: 0, Coordinates: (377, 240)\n",
      "Mouse event: 0, Coordinates: (385, 225)\n",
      "Mouse event: 0, Coordinates: (394, 212)\n",
      "Mouse event: 0, Coordinates: (401, 203)\n",
      "Mouse event: 0, Coordinates: (405, 196)\n",
      "Mouse event: 0, Coordinates: (413, 186)\n",
      "Mouse event: 0, Coordinates: (423, 176)\n",
      "Mouse event: 0, Coordinates: (431, 168)\n",
      "Mouse event: 0, Coordinates: (436, 163)\n",
      "Mouse event: 0, Coordinates: (442, 157)\n",
      "Mouse event: 0, Coordinates: (447, 153)\n",
      "Mouse event: 0, Coordinates: (451, 149)\n",
      "Mouse event: 0, Coordinates: (455, 146)\n",
      "Mouse event: 0, Coordinates: (460, 142)\n",
      "Mouse event: 0, Coordinates: (462, 140)\n",
      "Mouse event: 0, Coordinates: (464, 138)\n",
      "Mouse event: 0, Coordinates: (467, 134)\n",
      "Mouse event: 0, Coordinates: (470, 132)\n",
      "Mouse event: 0, Coordinates: (471, 130)\n",
      "Mouse event: 0, Coordinates: (473, 128)\n",
      "Mouse event: 0, Coordinates: (475, 127)\n",
      "Mouse event: 0, Coordinates: (477, 124)\n",
      "Mouse event: 0, Coordinates: (479, 119)\n",
      "Mouse event: 0, Coordinates: (480, 117)\n",
      "Mouse event: 0, Coordinates: (483, 112)\n",
      "Mouse event: 0, Coordinates: (484, 103)\n",
      "Mouse event: 0, Coordinates: (486, 95)\n",
      "Mouse event: 0, Coordinates: (487, 86)\n",
      "Mouse event: 0, Coordinates: (488, 76)\n",
      "Mouse event: 0, Coordinates: (489, 64)\n",
      "Mouse event: 0, Coordinates: (490, 50)\n",
      "Mouse event: 0, Coordinates: (493, 30)\n",
      "Mouse event: 0, Coordinates: (493, 14)\n",
      "Mouse event: 0, Coordinates: (494, 4)\n",
      "Mouse event: 0, Coordinates: (499, 2)\n",
      "Mouse event: 0, Coordinates: (499, 12)\n",
      "Mouse event: 0, Coordinates: (499, 18)\n",
      "Mouse event: 0, Coordinates: (498, 32)\n",
      "Mouse event: 0, Coordinates: (498, 44)\n",
      "Mouse event: 0, Coordinates: (495, 57)\n",
      "Mouse event: 0, Coordinates: (495, 66)\n",
      "Mouse event: 0, Coordinates: (493, 76)\n",
      "Mouse event: 0, Coordinates: (491, 88)\n",
      "Mouse event: 0, Coordinates: (489, 98)\n",
      "Mouse event: 0, Coordinates: (486, 108)\n",
      "Mouse event: 0, Coordinates: (485, 115)\n",
      "Mouse event: 0, Coordinates: (482, 122)\n",
      "Mouse event: 0, Coordinates: (479, 131)\n",
      "Mouse event: 0, Coordinates: (477, 136)\n",
      "Mouse event: 0, Coordinates: (474, 142)\n",
      "Mouse event: 0, Coordinates: (472, 146)\n"
     ]
    }
   ],
   "source": [
    "import cv2\n",
    "import numpy as np\n",
    "\n",
    "# Create a black image\n",
    "img = np.zeros((512, 512, 3), np.uint8)\n",
    "\n",
    "# Display the image to create the window\n",
    "cv2.imshow('image', img)\n",
    "cv2.waitKey(1)  # Needed to create the window\n",
    "\n",
    "# Initialize variables for coordinates\n",
    "coordinates = \"\"\n",
    "\n",
    "# Define the mouse callback function using a lambda function\n",
    "cv2.setMouseCallback('image', lambda event, x, y, flags, param:\n",
    "    [print(f'Mouse event: {event}, Coordinates: ({x}, {y})'),\n",
    "     (cv2.putText(img, f'{x},{y}', (x, y), cv2.FONT_HERSHEY_SIMPLEX, 0.5, (255, 0, 0), 2, cv2.LINE_AA) if event == cv2.EVENT_LBUTTONDOWN else None)][-1])\n",
    "\n",
    "# Main loop\n",
    "while True:\n",
    "    cv2.imshow('image', img)\n",
    "    if cv2.waitKey(1) == ord(\"q\"):\n",
    "        break\n",
    "\n",
    "cv2.destroyAllWindows()"
   ]
  },
  {
   "cell_type": "markdown",
   "id": "8d2ccc8f",
   "metadata": {},
   "source": [
    "### 12) Merge Image"
   ]
  },
  {
   "cell_type": "code",
   "execution_count": 3,
   "id": "9dd46b4a",
   "metadata": {},
   "outputs": [],
   "source": [
    "import cv2\n",
    "import numpy as np\n",
    "\n",
    "# Read two images\n",
    "image1 = cv2.imread('PV/modi.jpg')\n",
    "image2 = cv2.imread('pV/linkedin.jpg')\n",
    "\n",
    "# Ensure that both images have the same height\n",
    "rows, _, _ = image1.shape\n",
    "image2 = cv2.resize(image2, (int(image2.shape[1] * rows / image2.shape[0]), rows))\n",
    "\n",
    "# Resize the first image to match the width of the second image\n",
    "image1 = cv2.resize(image1, (image2.shape[1], rows))\n",
    "\n",
    "# Merge images\n",
    "merged_image = np.concatenate((image1, image2), axis=1)\n",
    "\n",
    "# Display the merged image\n",
    "cv2.imshow('Merged Image', merged_image)\n",
    "cv2.waitKey(0)\n",
    "cv2.destroyAllWindows()"
   ]
  },
  {
   "cell_type": "markdown",
   "id": "f0591b4e",
   "metadata": {},
   "source": [
    "### 13) Split the image"
   ]
  },
  {
   "cell_type": "code",
   "execution_count": 4,
   "id": "8b569032",
   "metadata": {},
   "outputs": [],
   "source": [
    "import cv2\n",
    "import numpy as np\n",
    "\n",
    "# Read two images\n",
    "image1 = cv2.imread('PV/modi.jpg')\n",
    "image2 = cv2.imread('PV/linkedin.jpg')\n",
    "\n",
    "# Ensure that both images have the same height\n",
    "rows, _, _ = image1.shape\n",
    "image2 = cv2.resize(image2, (int(image2.shape[1] * rows / image2.shape[0]), rows))\n",
    "\n",
    "# Resize the first image to match the width of the second image\n",
    "image1 = cv2.resize(image1, (image2.shape[1], rows))\n",
    "\n",
    "# Merge images\n",
    "merged_image = np.concatenate((image1, image2), axis=1)\n",
    "\n",
    "# Split the merged image into two parts\n",
    "split1, split2= np.split(merged_image, 2, axis=1)\n",
    "\n",
    "# Display the split images\n",
    "cv2.imshow('Split Image 1', split1)\n",
    "cv2.imshow('Split Image 2', split2)\n",
    "cv2.waitKey(0)\n",
    "cv2.destroyAllWindows()"
   ]
  },
  {
   "cell_type": "code",
   "execution_count": null,
   "id": "5af20fed",
   "metadata": {},
   "outputs": [],
   "source": []
  }
 ],
 "metadata": {
  "kernelspec": {
   "display_name": "Python 3 (ipykernel)",
   "language": "python",
   "name": "python3"
  },
  "language_info": {
   "codemirror_mode": {
    "name": "ipython",
    "version": 3
   },
   "file_extension": ".py",
   "mimetype": "text/x-python",
   "name": "python",
   "nbconvert_exporter": "python",
   "pygments_lexer": "ipython3",
   "version": "3.9.13"
  }
 },
 "nbformat": 4,
 "nbformat_minor": 5
}
