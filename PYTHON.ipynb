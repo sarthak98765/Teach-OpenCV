{
 "cells": [
  {
   "cell_type": "markdown",
   "id": "881646fc",
   "metadata": {},
   "source": [
    "# What is PYTHON ?"
   ]
  },
  {
   "cell_type": "markdown",
   "id": "b7904f85",
   "metadata": {},
   "source": [
    "Python is a high-level, general-purpose, and interpreted programming language used in various sectors including machine learning, artificial intelligence, data analysis, web development, and many more\n",
    "\n",
    "Python was Created by Guido van Rossum and was first released in 1991"
   ]
  },
  {
   "cell_type": "markdown",
   "id": "2812a256",
   "metadata": {},
   "source": [
    "# Why Python ?"
   ]
  },
  {
   "cell_type": "markdown",
   "id": "d5969359",
   "metadata": {},
   "source": [
    "- Easy to read and understand\n",
    "- Interpreted language\n",
    "- Object-oriented programming language\n",
    "- Free and open-source\n",
    "- Versatile and Extensible\n",
    "- Multi-platform\n",
    "- Hundreds of libraries and frameworks\n",
    "- Flexible, supports GUI\n",
    "- Dynamically typed\n",
    "- Huge and active community"
   ]
  },
  {
   "cell_type": "markdown",
   "id": "ee304710",
   "metadata": {},
   "source": [
    "# Topics we covered in python "
   ]
  },
  {
   "cell_type": "markdown",
   "id": "02c611f9",
   "metadata": {},
   "source": [
    "Today we cover 10 topics of python:\n",
    "1) Data types and Variables                       \n",
    "2) Operators in Python                                 \n",
    "3) Conditionals- If, else statements                               \n",
    "4) Loops                               \n",
    "5) List                               \n",
    "6) Tuple                                            \n",
    "7) Sets                                \n",
    "8) Dictionary                                   \n",
    "9) String                                     \n",
    "10) Functions                               "
   ]
  },
  {
   "cell_type": "markdown",
   "id": "72ff725d",
   "metadata": {},
   "source": [
    "## 1) Data types and Variables "
   ]
  },
  {
   "cell_type": "markdown",
   "id": "47fbbcf7",
   "metadata": {},
   "source": [
    "We did not specify the type of the variable a, which has the value five from an integer. The Python interpreter will automatically interpret the variable as an integer. There are 5 types of dtypes:\n",
    "- int\n",
    "- float\n",
    "- String\n",
    "- bool\n",
    "- complex"
   ]
  },
  {
   "cell_type": "code",
   "execution_count": 1,
   "id": "e410313e",
   "metadata": {},
   "outputs": [
    {
     "data": {
      "text/plain": [
       "float"
      ]
     },
     "execution_count": 1,
     "metadata": {},
     "output_type": "execute_result"
    }
   ],
   "source": [
    "type(7)        #type is used to see dtype \n",
    "#7 is a integer"
   ]
  },
  {
   "cell_type": "code",
   "execution_count": 2,
   "id": "87f275ea",
   "metadata": {},
   "outputs": [
    {
     "data": {
      "text/plain": [
       "float"
      ]
     },
     "execution_count": 2,
     "metadata": {},
     "output_type": "execute_result"
    }
   ],
   "source": [
    "type(6.44)\n",
    "#decimal means floating dtype"
   ]
  },
  {
   "cell_type": "code",
   "execution_count": 3,
   "id": "113804b0",
   "metadata": {},
   "outputs": [
    {
     "data": {
      "text/plain": [
       "str"
      ]
     },
     "execution_count": 3,
     "metadata": {},
     "output_type": "execute_result"
    }
   ],
   "source": [
    "type('Hi')\n",
    "#character are string dtype"
   ]
  },
  {
   "cell_type": "code",
   "execution_count": 4,
   "id": "ea275741",
   "metadata": {},
   "outputs": [
    {
     "data": {
      "text/plain": [
       "False"
      ]
     },
     "execution_count": 4,
     "metadata": {},
     "output_type": "execute_result"
    }
   ],
   "source": [
    "bool(0)\n",
    "#bool of 0 is false and bool of anything other than 0 is True"
   ]
  },
  {
   "cell_type": "code",
   "execution_count": 5,
   "id": "1c75ed35",
   "metadata": {},
   "outputs": [
    {
     "data": {
      "text/plain": [
       "True"
      ]
     },
     "execution_count": 5,
     "metadata": {},
     "output_type": "execute_result"
    }
   ],
   "source": [
    "bool(2)"
   ]
  },
  {
   "cell_type": "code",
   "execution_count": 6,
   "id": "0615fffb",
   "metadata": {},
   "outputs": [
    {
     "data": {
      "text/plain": [
       "bool"
      ]
     },
     "execution_count": 6,
     "metadata": {},
     "output_type": "execute_result"
    }
   ],
   "source": [
    "type(True)\n",
    "#True and False is of Boolean dtype"
   ]
  },
  {
   "cell_type": "code",
   "execution_count": 7,
   "id": "cd469913",
   "metadata": {},
   "outputs": [
    {
     "data": {
      "text/plain": [
       "complex"
      ]
     },
     "execution_count": 7,
     "metadata": {},
     "output_type": "execute_result"
    }
   ],
   "source": [
    "type(4+7j)\n",
    "#any form of a+bj is complex"
   ]
  },
  {
   "cell_type": "markdown",
   "id": "7ad10946",
   "metadata": {},
   "source": [
    "### Taking input in variables\n",
    "There are some rules for declaration of a variable:\n",
    "- Name of a variable should be start with character or underscore, it can't be start with number or any other special character.\n",
    "- variable name can't have any empty space                \n",
    "- Keywords can't be used as variable name            \n",
    "- special characters like (!,&,%,@,#,^,*) can't be used"
   ]
  },
  {
   "cell_type": "code",
   "execution_count": 11,
   "id": "12ff3874",
   "metadata": {},
   "outputs": [
    {
     "name": "stdout",
     "output_type": "stream",
     "text": [
      "35\n"
     ]
    }
   ],
   "source": [
    "a=int(input())\n",
    "#syntax of taking input"
   ]
  },
  {
   "cell_type": "code",
   "execution_count": 12,
   "id": "72b5e6b3",
   "metadata": {},
   "outputs": [
    {
     "data": {
      "text/plain": [
       "int"
      ]
     },
     "execution_count": 12,
     "metadata": {},
     "output_type": "execute_result"
    }
   ],
   "source": [
    "type(a)\n",
    "#Default input variable is string"
   ]
  },
  {
   "cell_type": "code",
   "execution_count": 10,
   "id": "06ec883f",
   "metadata": {},
   "outputs": [
    {
     "name": "stdout",
     "output_type": "stream",
     "text": [
      "45\n"
     ]
    }
   ],
   "source": [
    "#If we want to change dtype of variable \n",
    "b=int(input())"
   ]
  },
  {
   "cell_type": "code",
   "execution_count": 11,
   "id": "c51d5024",
   "metadata": {},
   "outputs": [
    {
     "data": {
      "text/plain": [
       "int"
      ]
     },
     "execution_count": 11,
     "metadata": {},
     "output_type": "execute_result"
    }
   ],
   "source": [
    "type(b)\n",
    "#This method is called implicit typecasting"
   ]
  },
  {
   "cell_type": "code",
   "execution_count": 13,
   "id": "2696d020",
   "metadata": {},
   "outputs": [
    {
     "data": {
      "text/plain": [
       "35"
      ]
     },
     "execution_count": 13,
     "metadata": {},
     "output_type": "execute_result"
    }
   ],
   "source": [
    "int(a)"
   ]
  },
  {
   "cell_type": "code",
   "execution_count": 13,
   "id": "046e4fa9",
   "metadata": {},
   "outputs": [
    {
     "data": {
      "text/plain": [
       "str"
      ]
     },
     "execution_count": 13,
     "metadata": {},
     "output_type": "execute_result"
    }
   ],
   "source": [
    "type(a)"
   ]
  },
  {
   "cell_type": "code",
   "execution_count": 14,
   "id": "0812b211",
   "metadata": {},
   "outputs": [
    {
     "data": {
      "text/plain": [
       "int"
      ]
     },
     "execution_count": 14,
     "metadata": {},
     "output_type": "execute_result"
    }
   ],
   "source": [
    "type(int(a))\n",
    "#this typecasting is explicit typecasting"
   ]
  },
  {
   "cell_type": "code",
   "execution_count": 15,
   "id": "77b0b39c",
   "metadata": {},
   "outputs": [
    {
     "name": "stdout",
     "output_type": "stream",
     "text": [
      "Sarthak\n",
      "Aggarwal\n",
      "SarthakAggarwal\n"
     ]
    }
   ],
   "source": [
    "my_first_name=\"Sarthak\"\n",
    "my_last_name='Aggarwal'        #double and single quote both are same in python\n",
    "print(my_first_name)\n",
    "print(my_last_name)\n",
    "print(my_first_name + my_last_name)          #Adding both varibale adds both strings"
   ]
  },
  {
   "cell_type": "code",
   "execution_count": 16,
   "id": "04c7f3e1",
   "metadata": {},
   "outputs": [
    {
     "name": "stdout",
     "output_type": "stream",
     "text": [
      "My First name is Sarthak and my Last name is Aggarwal\n"
     ]
    }
   ],
   "source": [
    "print(\"My First name is {} and my Last name is {}\".format(my_first_name,my_last_name))"
   ]
  },
  {
   "cell_type": "markdown",
   "id": "7a0c1ca9",
   "metadata": {},
   "source": [
    "## 2)Operators in Python\n",
    "- Arithmetic Operators                     \n",
    "- Assignment Operators               \n",
    "- Comparison Operators                 \n",
    "- Logical Operators               \n",
    "- Identity Operators                 \n",
    "- Membership Operaors              \n",
    "- Bitwise Operators"
   ]
  },
  {
   "cell_type": "markdown",
   "id": "d39d206f",
   "metadata": {},
   "source": [
    "### i) Arithmetic operator"
   ]
  },
  {
   "cell_type": "code",
   "execution_count": 14,
   "id": "26edfa79",
   "metadata": {},
   "outputs": [
    {
     "name": "stdout",
     "output_type": "stream",
     "text": [
      "Sum = 15\n"
     ]
    }
   ],
   "source": [
    "num_1=10\n",
    "num_2=5\n",
    "\n",
    "#Addition\n",
    "sum = num_1 + num_2\n",
    "print('Sum =',sum)"
   ]
  },
  {
   "cell_type": "code",
   "execution_count": 18,
   "id": "4ffae0ab",
   "metadata": {},
   "outputs": [
    {
     "name": "stdout",
     "output_type": "stream",
     "text": [
      "Difference = -5\n"
     ]
    }
   ],
   "source": [
    "#Subtraction\n",
    "diff = num_2 - num_1\n",
    "print('Difference =',diff)"
   ]
  },
  {
   "cell_type": "code",
   "execution_count": 19,
   "id": "e3c754e9",
   "metadata": {},
   "outputs": [
    {
     "name": "stdout",
     "output_type": "stream",
     "text": [
      "Product = 50\n"
     ]
    }
   ],
   "source": [
    "#Multiplication\n",
    "prod = num_1 * num_2\n",
    "print('Product =',prod)"
   ]
  },
  {
   "cell_type": "code",
   "execution_count": 20,
   "id": "e8974d9f",
   "metadata": {},
   "outputs": [
    {
     "name": "stdout",
     "output_type": "stream",
     "text": [
      "Division = 0.5\n"
     ]
    }
   ],
   "source": [
    "#Division\n",
    "div = num_2 / num_1\n",
    "print('Division =',div)"
   ]
  },
  {
   "cell_type": "code",
   "execution_count": 21,
   "id": "622f981b",
   "metadata": {},
   "outputs": [
    {
     "name": "stdout",
     "output_type": "stream",
     "text": [
      "Floor = 2\n"
     ]
    }
   ],
   "source": [
    "#Floor division\n",
    "floor = num_1 // num_2\n",
    "print('Floor =',floor)            # retruns integer quotient"
   ]
  },
  {
   "cell_type": "code",
   "execution_count": 22,
   "id": "423253a8",
   "metadata": {},
   "outputs": [
    {
     "name": "stdout",
     "output_type": "stream",
     "text": [
      "Exponent = 100000\n"
     ]
    }
   ],
   "source": [
    "#Exponent\n",
    "exp = num_1**num_2\n",
    "print('Exponent =',exp)           # returns the power"
   ]
  },
  {
   "cell_type": "code",
   "execution_count": 23,
   "id": "95c0642e",
   "metadata": {},
   "outputs": [
    {
     "name": "stdout",
     "output_type": "stream",
     "text": [
      "Modulus = 0\n"
     ]
    }
   ],
   "source": [
    "#Modulus\n",
    "mod = num_1 % num_2\n",
    "print('Modulus =',mod)            # returns remainder"
   ]
  },
  {
   "cell_type": "markdown",
   "id": "bbb4b1f2",
   "metadata": {},
   "source": [
    "### ii)Assignment operator "
   ]
  },
  {
   "cell_type": "code",
   "execution_count": 24,
   "id": "74ba6123",
   "metadata": {},
   "outputs": [
    {
     "name": "stdout",
     "output_type": "stream",
     "text": [
      "5\n"
     ]
    }
   ],
   "source": [
    "a = 5                  # \"=\" is assignment operator\n",
    "print(a)"
   ]
  },
  {
   "cell_type": "code",
   "execution_count": 25,
   "id": "23cac2d6",
   "metadata": {},
   "outputs": [
    {
     "name": "stdout",
     "output_type": "stream",
     "text": [
      "10\n"
     ]
    }
   ],
   "source": [
    "a = 5\n",
    "a += 5                 # \"+=\" means a= a+5\n",
    "print(a)"
   ]
  },
  {
   "cell_type": "code",
   "execution_count": 26,
   "id": "81403f72",
   "metadata": {},
   "outputs": [
    {
     "name": "stdout",
     "output_type": "stream",
     "text": [
      "8\n"
     ]
    }
   ],
   "source": [
    "b = 10\n",
    "b -= 2                 # \"-=\" means b= b-2\n",
    "print(b)"
   ]
  },
  {
   "cell_type": "code",
   "execution_count": 27,
   "id": "42588a57",
   "metadata": {},
   "outputs": [
    {
     "name": "stdout",
     "output_type": "stream",
     "text": [
      "12\n"
     ]
    }
   ],
   "source": [
    "c = 3\n",
    "c *= 4                # c= c*4\n",
    "print(c)"
   ]
  },
  {
   "cell_type": "code",
   "execution_count": 28,
   "id": "d77ba1fb",
   "metadata": {},
   "outputs": [
    {
     "name": "stdout",
     "output_type": "stream",
     "text": [
      "81\n"
     ]
    }
   ],
   "source": [
    "c = 3\n",
    "c **= 4               # c= c^4\n",
    "print(c)"
   ]
  },
  {
   "cell_type": "code",
   "execution_count": 29,
   "id": "de3085e5",
   "metadata": {},
   "outputs": [
    {
     "name": "stdout",
     "output_type": "stream",
     "text": [
      "2.5\n"
     ]
    }
   ],
   "source": [
    "c = 5\n",
    "c /= 2                # c= c/2\n",
    "print(c)"
   ]
  },
  {
   "cell_type": "code",
   "execution_count": 30,
   "id": "b035faf4",
   "metadata": {},
   "outputs": [
    {
     "name": "stdout",
     "output_type": "stream",
     "text": [
      "0\n"
     ]
    }
   ],
   "source": [
    "c = 12\n",
    "c %=3                # c= c%3\n",
    "print(c)"
   ]
  },
  {
   "cell_type": "markdown",
   "id": "f87b9382",
   "metadata": {},
   "source": [
    "### iii)Comparison Operators - returns either true or false"
   ]
  },
  {
   "cell_type": "code",
   "execution_count": 31,
   "id": "22cd0c1b",
   "metadata": {},
   "outputs": [],
   "source": [
    "a = 5\n",
    "b = 10"
   ]
  },
  {
   "cell_type": "code",
   "execution_count": 32,
   "id": "e907dbc6",
   "metadata": {},
   "outputs": [
    {
     "name": "stdout",
     "output_type": "stream",
     "text": [
      "False\n"
     ]
    }
   ],
   "source": [
    "print(a == b)       #equal to"
   ]
  },
  {
   "cell_type": "code",
   "execution_count": 33,
   "id": "4648f798",
   "metadata": {},
   "outputs": [
    {
     "name": "stdout",
     "output_type": "stream",
     "text": [
      "True\n"
     ]
    }
   ],
   "source": [
    "print(a != b)       #not equal to"
   ]
  },
  {
   "cell_type": "code",
   "execution_count": 34,
   "id": "b00b254c",
   "metadata": {},
   "outputs": [
    {
     "name": "stdout",
     "output_type": "stream",
     "text": [
      "False\n"
     ]
    }
   ],
   "source": [
    "print(a > b)        #greater than"
   ]
  },
  {
   "cell_type": "code",
   "execution_count": 35,
   "id": "3ad642be",
   "metadata": {},
   "outputs": [
    {
     "name": "stdout",
     "output_type": "stream",
     "text": [
      "True\n"
     ]
    }
   ],
   "source": [
    "print(a < b)        #less than"
   ]
  },
  {
   "cell_type": "code",
   "execution_count": 36,
   "id": "e2b9c3cc",
   "metadata": {},
   "outputs": [
    {
     "name": "stdout",
     "output_type": "stream",
     "text": [
      "True\n"
     ]
    }
   ],
   "source": [
    "print(a <= b)       #less than equal to"
   ]
  },
  {
   "cell_type": "code",
   "execution_count": 37,
   "id": "938bc8a3",
   "metadata": {},
   "outputs": [
    {
     "name": "stdout",
     "output_type": "stream",
     "text": [
      "False\n"
     ]
    }
   ],
   "source": [
    "print(a >= b)       #greater than equal to"
   ]
  },
  {
   "cell_type": "markdown",
   "id": "32e12895",
   "metadata": {},
   "source": [
    "### iv)Logical Operators"
   ]
  },
  {
   "cell_type": "code",
   "execution_count": 38,
   "id": "c81827f2",
   "metadata": {},
   "outputs": [],
   "source": [
    "a = 10"
   ]
  },
  {
   "cell_type": "code",
   "execution_count": 39,
   "id": "d8f97d39",
   "metadata": {},
   "outputs": [
    {
     "name": "stdout",
     "output_type": "stream",
     "text": [
      "False\n",
      "True\n"
     ]
    }
   ],
   "source": [
    "#and\n",
    "print( a>20 and a<10)\n",
    "print( a <=10 and a>8)       #True if both are true"
   ]
  },
  {
   "cell_type": "code",
   "execution_count": 40,
   "id": "f0aa78d9",
   "metadata": {},
   "outputs": [
    {
     "name": "stdout",
     "output_type": "stream",
     "text": [
      "True\n",
      "False\n"
     ]
    }
   ],
   "source": [
    "#or\n",
    "print( a>9 or a>30)\n",
    "print( a>20 or a==12)        #True if either one is true"
   ]
  },
  {
   "cell_type": "code",
   "execution_count": 41,
   "id": "c73529c4",
   "metadata": {},
   "outputs": [
    {
     "name": "stdout",
     "output_type": "stream",
     "text": [
      "False\n"
     ]
    }
   ],
   "source": [
    "#not\n",
    "print( not(a>5))             #returns opposite"
   ]
  },
  {
   "cell_type": "markdown",
   "id": "c4382340",
   "metadata": {},
   "source": [
    "### v)Identity Opeartors"
   ]
  },
  {
   "cell_type": "code",
   "execution_count": 42,
   "id": "ba58d3a8",
   "metadata": {},
   "outputs": [],
   "source": [
    "x = 5\n",
    "y = 5"
   ]
  },
  {
   "cell_type": "code",
   "execution_count": 43,
   "id": "b6cf02f9",
   "metadata": {},
   "outputs": [
    {
     "name": "stdout",
     "output_type": "stream",
     "text": [
      "True\n"
     ]
    }
   ],
   "source": [
    "#is\n",
    "print(x is y)         #Returns true if both are same"
   ]
  },
  {
   "cell_type": "code",
   "execution_count": 44,
   "id": "4966b23b",
   "metadata": {},
   "outputs": [
    {
     "name": "stdout",
     "output_type": "stream",
     "text": [
      "False\n"
     ]
    }
   ],
   "source": [
    "#is not\n",
    "print(x is not y)"
   ]
  },
  {
   "cell_type": "markdown",
   "id": "0d4a59d1",
   "metadata": {},
   "source": [
    "### vi)Membership Operators"
   ]
  },
  {
   "cell_type": "code",
   "execution_count": 45,
   "id": "45c59970",
   "metadata": {},
   "outputs": [],
   "source": [
    "a = 5\n",
    "b = 10\n",
    "c = [1,2,3,4,5]"
   ]
  },
  {
   "cell_type": "code",
   "execution_count": 46,
   "id": "9f4710de",
   "metadata": {},
   "outputs": [
    {
     "name": "stdout",
     "output_type": "stream",
     "text": [
      "True\n",
      "False\n"
     ]
    }
   ],
   "source": [
    "# in\n",
    "print(a in c)\n",
    "print(a not in c)            #true if element is in the object"
   ]
  },
  {
   "cell_type": "code",
   "execution_count": 47,
   "id": "9190ad07",
   "metadata": {},
   "outputs": [
    {
     "name": "stdout",
     "output_type": "stream",
     "text": [
      "False\n",
      "True\n"
     ]
    }
   ],
   "source": [
    "# not in\n",
    "print(b in c)\n",
    "print(b not in c)"
   ]
  },
  {
   "cell_type": "markdown",
   "id": "d0185408",
   "metadata": {},
   "source": [
    "### vii)Bitwise Operators - Check each bit at each place"
   ]
  },
  {
   "cell_type": "code",
   "execution_count": 48,
   "id": "0990a7ee",
   "metadata": {},
   "outputs": [],
   "source": [
    "a=3       #3=011\n",
    "b=6       #6=110"
   ]
  },
  {
   "cell_type": "code",
   "execution_count": 49,
   "id": "617e3619",
   "metadata": {},
   "outputs": [
    {
     "name": "stdout",
     "output_type": "stream",
     "text": [
      "2\n"
     ]
    }
   ],
   "source": [
    "# and- returns 1 if both are 1\n",
    "print(a&b)           #010=2"
   ]
  },
  {
   "cell_type": "code",
   "execution_count": 50,
   "id": "b37337aa",
   "metadata": {},
   "outputs": [
    {
     "name": "stdout",
     "output_type": "stream",
     "text": [
      "7\n"
     ]
    }
   ],
   "source": [
    "# or- returns 1 if either is 1\n",
    "print(a|b)           #111=7"
   ]
  },
  {
   "cell_type": "code",
   "execution_count": null,
   "id": "efa7d42f",
   "metadata": {},
   "outputs": [],
   "source": []
  },
  {
   "cell_type": "code",
   "execution_count": 51,
   "id": "45cccf94",
   "metadata": {},
   "outputs": [
    {
     "name": "stdout",
     "output_type": "stream",
     "text": [
      "5\n"
     ]
    }
   ],
   "source": [
    "# X-OR- returns 1 if only one of the two bits is 1\n",
    "print(a^b)           #101=5"
   ]
  },
  {
   "cell_type": "code",
   "execution_count": 52,
   "id": "4b8832ca",
   "metadata": {},
   "outputs": [
    {
     "name": "stdout",
     "output_type": "stream",
     "text": [
      "-4\n",
      "-7\n"
     ]
    }
   ],
   "source": [
    "# Not- ~n=-(n+1)\n",
    "print(~a)\n",
    "print(~b)"
   ]
  },
  {
   "cell_type": "markdown",
   "id": "b86dd238",
   "metadata": {},
   "source": [
    "## 3)Conditionals- if,else,elif statements "
   ]
  },
  {
   "cell_type": "markdown",
   "id": "47d4a2e2",
   "metadata": {},
   "source": [
    "There comes situations in real life when we need to do some specific task and based on some specific conditions and, we decide what should we do next. Similarly there comes a situation in programming where a specific task is to be performed if a specific condition is True. In such cases, conditional statements can be used."
   ]
  },
  {
   "cell_type": "code",
   "execution_count": 53,
   "id": "f438c86d",
   "metadata": {},
   "outputs": [
    {
     "name": "stdout",
     "output_type": "stream",
     "text": [
      "34\n",
      "45\n",
      "45 is greater number than 34\n"
     ]
    }
   ],
   "source": [
    "# Simple if-else statements -- for 1 condition\n",
    "\n",
    "a=int(input())\n",
    "b=int(input())\n",
    "\n",
    "if a>b:\n",
    "    print(a,\"is greater number than\",b)\n",
    "else:\n",
    "    print(b,\"is greater number than\",a)"
   ]
  },
  {
   "cell_type": "code",
   "execution_count": 54,
   "id": "3a701d96",
   "metadata": {},
   "outputs": [
    {
     "name": "stdout",
     "output_type": "stream",
     "text": [
      "45\n",
      "78\n",
      "78 is greater number than 45\n"
     ]
    }
   ],
   "source": [
    "#if-elif-else -- for more than 1 condition\n",
    "\n",
    "a=int(input())\n",
    "b=int(input())\n",
    "\n",
    "if a>b:\n",
    "    print(a,\"is greater number than\",b)\n",
    "elif a==b:\n",
    "    print(\"Both are equal numbers\")\n",
    "else:\n",
    "    print(b,\"is greater number than\",a)"
   ]
  },
  {
   "cell_type": "code",
   "execution_count": 55,
   "id": "35c5166e",
   "metadata": {},
   "outputs": [
    {
     "name": "stdout",
     "output_type": "stream",
     "text": [
      "34\n",
      "76\n",
      "47\n",
      "b is the greatest number\n"
     ]
    }
   ],
   "source": [
    "#Nested-if \n",
    "\n",
    "a = int(input())\n",
    "b = int(input())\n",
    "c = int(input())\n",
    "\n",
    "if(a>b):                  #identitation matters\n",
    "    if(a>c):\n",
    "        print('a is greatest number')\n",
    "    else:\n",
    "        print('c is greatest number')\n",
    "else:\n",
    "    if(b>c):\n",
    "        print('b is the greatest number')\n",
    "    else:\n",
    "        print('c is the greatest number')"
   ]
  },
  {
   "cell_type": "markdown",
   "id": "3c1df654",
   "metadata": {},
   "source": [
    "## 4)Loops \n",
    "If we want to automate a repetitive process, we can use loops to do that. A\n",
    "loop is a programming structure that executes the same code over and over\n",
    "again, as long as a certain condition is met."
   ]
  },
  {
   "cell_type": "code",
   "execution_count": 56,
   "id": "0e941765",
   "metadata": {},
   "outputs": [
    {
     "name": "stdout",
     "output_type": "stream",
     "text": [
      "1\n",
      "2\n",
      "3\n",
      "4\n",
      "5\n",
      "6\n",
      "7\n",
      "8\n",
      "9\n",
      "10\n"
     ]
    }
   ],
   "source": [
    "# While loop\n",
    "\n",
    "number = 0\n",
    "while number < 10 :        # execute until condition is true\n",
    "    number += 1\n",
    "    print (number)"
   ]
  },
  {
   "cell_type": "code",
   "execution_count": 15,
   "id": "96c4d814",
   "metadata": {},
   "outputs": [
    {
     "name": "stdout",
     "output_type": "stream",
     "text": [
      "10\n",
      "12\n",
      "14\n"
     ]
    }
   ],
   "source": [
    "for i in range(10,15,2):\n",
    "    print(i)"
   ]
  },
  {
   "cell_type": "code",
   "execution_count": null,
   "id": "edeea678",
   "metadata": {},
   "outputs": [],
   "source": []
  },
  {
   "cell_type": "code",
   "execution_count": 57,
   "id": "f1001905",
   "metadata": {},
   "outputs": [
    {
     "name": "stdout",
     "output_type": "stream",
     "text": [
      "1\n",
      "2\n",
      "3\n",
      "5\n",
      "6\n",
      "7\n"
     ]
    }
   ],
   "source": [
    "number = 0\n",
    "while number < 10 :\n",
    "    number += 1\n",
    "    if number==4:\n",
    "        continue     # it skips the value\n",
    "    if number==6:\n",
    "        pass         # it do nothing just helps in running scripts\n",
    "    if number==8:\n",
    "        break        # break the flow of loop\n",
    "    print (number)"
   ]
  },
  {
   "cell_type": "code",
   "execution_count": 58,
   "id": "69e9d50c",
   "metadata": {},
   "outputs": [
    {
     "name": "stdout",
     "output_type": "stream",
     "text": [
      "10\n",
      "20\n",
      "30\n",
      "40\n"
     ]
    }
   ],
   "source": [
    "# for loop\n",
    "\n",
    "numbers = [ 10 , 20 , 30 , 40 ]\n",
    "for number in numbers:\n",
    "    print (number)"
   ]
  },
  {
   "cell_type": "code",
   "execution_count": 59,
   "id": "8d6b734f",
   "metadata": {},
   "outputs": [
    {
     "name": "stdout",
     "output_type": "stream",
     "text": [
      "10\n",
      "11\n",
      "12\n",
      "13\n",
      "14\n"
     ]
    }
   ],
   "source": [
    "# range function \n",
    "\n",
    "for i in range(10,15):\n",
    "    print(i)"
   ]
  },
  {
   "cell_type": "markdown",
   "id": "2c62fcf5",
   "metadata": {},
   "source": [
    "## 5)Lists\n",
    "A list is a data structure in Python that is mutable, or Changeable, ordered sequence of elements. Each elements or value that is inside of a list is called an item. Just as strings are defined as characters between quotes, lists are defined by having values between square bracket.\n",
    "\n",
    "- Can contains different data types\n",
    "- Mutable\n",
    "- Indexing is there\n",
    "- Duplicate elements are allowed."
   ]
  },
  {
   "cell_type": "code",
   "execution_count": 60,
   "id": "4c0ba27f",
   "metadata": {},
   "outputs": [],
   "source": [
    "# List vs Array"
   ]
  },
  {
   "cell_type": "markdown",
   "id": "0afc30c1",
   "metadata": {},
   "source": [
    "Array is Homogenous- One Data type                              \n",
    "list is heterogenous- Multiple Dtype                                 \n",
    "\n",
    "Arrays are much faster                                \n",
    "List are more programmer friendly                                   "
   ]
  },
  {
   "cell_type": "code",
   "execution_count": 61,
   "id": "698ecb6e",
   "metadata": {},
   "outputs": [
    {
     "name": "stdout",
     "output_type": "stream",
     "text": [
      "[]\n",
      "[1, 2, 3, 4, 5]\n",
      "[1, 'hi', 6.7]\n"
     ]
    },
    {
     "data": {
      "text/plain": [
       "list"
      ]
     },
     "execution_count": 61,
     "metadata": {},
     "output_type": "execute_result"
    }
   ],
   "source": [
    "# How to Create a List\n",
    "\n",
    "L1=[]        #empty list\n",
    "\n",
    "L2=[1,2,3,4,5]       #List having int dtype elements\n",
    "\n",
    "L3=[1,'hi',6.7]      #List having multiple dtype\n",
    "\n",
    "print(L1)\n",
    "print(L2)\n",
    "print(L3)\n",
    "type(L1)"
   ]
  },
  {
   "cell_type": "code",
   "execution_count": 62,
   "id": "94bab50d",
   "metadata": {},
   "outputs": [
    {
     "name": "stdout",
     "output_type": "stream",
     "text": [
      "[1, 2, [3, 4]]\n",
      "[[[1, 2], [3, 4]], [[5, 6], [7, 8]]]\n"
     ]
    }
   ],
   "source": [
    "# Creating Multi-Dimensional List\n",
    "\n",
    "L4=[1,2,[3,4]]       #2d list\n",
    "\n",
    "L5=[[[1,2],[3,4]],[[5,6],[7,8]]]       #3-d list\n",
    "\n",
    "print(L4)\n",
    "print(L5)"
   ]
  },
  {
   "cell_type": "code",
   "execution_count": 63,
   "id": "2424be1b",
   "metadata": {},
   "outputs": [
    {
     "data": {
      "text/plain": [
       "['h', 'a', 'l', 'd', 'i', 'a']"
      ]
     },
     "execution_count": 63,
     "metadata": {},
     "output_type": "execute_result"
    }
   ],
   "source": [
    "l=list(\"haldia\")\n",
    "l    "
   ]
  },
  {
   "cell_type": "code",
   "execution_count": 64,
   "id": "cdce1f18",
   "metadata": {},
   "outputs": [
    {
     "name": "stdout",
     "output_type": "stream",
     "text": [
      "3\n",
      "[1, 3]\n"
     ]
    }
   ],
   "source": [
    "# Indexing and slicing\n",
    "\n",
    "print(L2[2])        #print 3rd element in L2 list\n",
    "\n",
    "print(L2[0:4:2])   # [a:b:c]-  a=starting index, b=ending index, c=gap between index"
   ]
  },
  {
   "cell_type": "code",
   "execution_count": 65,
   "id": "14e1ed6a",
   "metadata": {},
   "outputs": [
    {
     "name": "stdout",
     "output_type": "stream",
     "text": [
      "[100, 2, 3, 4, 5]\n"
     ]
    }
   ],
   "source": [
    "# Editing in List- Since list are mutable so we can change them\n",
    "\n",
    "L2[0]=100\n",
    "print(L2)        # Replace 0th index element with new element"
   ]
  },
  {
   "cell_type": "code",
   "execution_count": 66,
   "id": "70411096",
   "metadata": {},
   "outputs": [
    {
     "name": "stdout",
     "output_type": "stream",
     "text": [
      "[100, 200, 300, 400, 500]\n"
     ]
    }
   ],
   "source": [
    "L2[1:5]=[200,300,400,500]\n",
    "print(L2)                #Raplace the elements"
   ]
  },
  {
   "cell_type": "markdown",
   "id": "8774ea9a",
   "metadata": {},
   "source": [
    "### Adding elements in list "
   ]
  },
  {
   "cell_type": "code",
   "execution_count": 67,
   "id": "119baf83",
   "metadata": {},
   "outputs": [
    {
     "name": "stdout",
     "output_type": "stream",
     "text": [
      "[1, 2, 3, 4, 5, 6, 7, 10]\n"
     ]
    }
   ],
   "source": [
    "# append- Adds items in last\n",
    "\n",
    "L6=[1,2,3,4,5,6,7]\n",
    "L6.append(10)        #add 10 at last\n",
    "print(L6)"
   ]
  },
  {
   "cell_type": "code",
   "execution_count": 68,
   "id": "63adeab8",
   "metadata": {},
   "outputs": [
    {
     "name": "stdout",
     "output_type": "stream",
     "text": [
      "[1, 2, 3, 4, 5, 6, 7, 10, 'hi', 'hlo', 11]\n"
     ]
    }
   ],
   "source": [
    "# extend- Adds multiple items in last\n",
    "\n",
    "L6.extend(['hi','hlo',11])\n",
    "print(L6)"
   ]
  },
  {
   "cell_type": "code",
   "execution_count": 69,
   "id": "ee55a87d",
   "metadata": {},
   "outputs": [
    {
     "data": {
      "text/plain": [
       "[1, 2, 3, 'ok', 4, 5, 6, 7, 10, 'hi', 'hlo', 11]"
      ]
     },
     "execution_count": 69,
     "metadata": {},
     "output_type": "execute_result"
    }
   ],
   "source": [
    "# insert- we can add element at a specific index\n",
    "\n",
    "L6.insert(3,\"ok\")     #add ok at 4th position\n",
    "L6"
   ]
  },
  {
   "cell_type": "markdown",
   "id": "a01b40ab",
   "metadata": {},
   "source": [
    "### Deleting items from list "
   ]
  },
  {
   "cell_type": "code",
   "execution_count": 70,
   "id": "645c11bf",
   "metadata": {},
   "outputs": [],
   "source": [
    "# del- delete complete list\n",
    "\n",
    "del L6      # L6 is now deleted"
   ]
  },
  {
   "cell_type": "code",
   "execution_count": 71,
   "id": "2ec21c36",
   "metadata": {},
   "outputs": [
    {
     "ename": "NameError",
     "evalue": "name 'L6' is not defined",
     "output_type": "error",
     "traceback": [
      "\u001b[1;31m---------------------------------------------------------------------------\u001b[0m",
      "\u001b[1;31mNameError\u001b[0m                                 Traceback (most recent call last)",
      "\u001b[1;32m~\\AppData\\Local\\Temp\\ipykernel_9580\\1164474594.py\u001b[0m in \u001b[0;36m<module>\u001b[1;34m\u001b[0m\n\u001b[1;32m----> 1\u001b[1;33m \u001b[0mL6\u001b[0m       \u001b[1;31m# L6 is not defined\u001b[0m\u001b[1;33m\u001b[0m\u001b[1;33m\u001b[0m\u001b[0m\n\u001b[0m",
      "\u001b[1;31mNameError\u001b[0m: name 'L6' is not defined"
     ]
    }
   ],
   "source": [
    "L6       # L6 is not defined"
   ]
  },
  {
   "cell_type": "code",
   "execution_count": 72,
   "id": "46c0fb1c",
   "metadata": {},
   "outputs": [
    {
     "data": {
      "text/plain": [
       "[1, 3, 4, 5]"
      ]
     },
     "execution_count": 72,
     "metadata": {},
     "output_type": "execute_result"
    }
   ],
   "source": [
    "#del with index\n",
    "\n",
    "L7=[1,2,3,4,5]\n",
    "\n",
    "del L7[1]      # delete 2 of L7\n",
    "\n",
    "L7"
   ]
  },
  {
   "cell_type": "code",
   "execution_count": 73,
   "id": "6c981787",
   "metadata": {},
   "outputs": [
    {
     "data": {
      "text/plain": [
       "[1, 0, 'hi', 87]"
      ]
     },
     "execution_count": 73,
     "metadata": {},
     "output_type": "execute_result"
    }
   ],
   "source": [
    "# remove- write item name to delete\n",
    "\n",
    "L8=[1,5,0,'hi',87]\n",
    "L8.remove(5)      #remove 5\n",
    "L8"
   ]
  },
  {
   "cell_type": "code",
   "execution_count": 74,
   "id": "51ec3abf",
   "metadata": {},
   "outputs": [
    {
     "data": {
      "text/plain": [
       "87"
      ]
     },
     "execution_count": 74,
     "metadata": {},
     "output_type": "execute_result"
    }
   ],
   "source": [
    "# pop- remove last element\n",
    "L8.pop()"
   ]
  },
  {
   "cell_type": "code",
   "execution_count": 75,
   "id": "3a072b7f",
   "metadata": {},
   "outputs": [
    {
     "data": {
      "text/plain": [
       "[]"
      ]
     },
     "execution_count": 75,
     "metadata": {},
     "output_type": "execute_result"
    }
   ],
   "source": [
    "# clear- empty the list\n",
    "L8.clear()\n",
    "L8"
   ]
  },
  {
   "cell_type": "markdown",
   "id": "ac26beda",
   "metadata": {},
   "source": [
    "### Operations in list "
   ]
  },
  {
   "cell_type": "code",
   "execution_count": 76,
   "id": "fd51f873",
   "metadata": {},
   "outputs": [
    {
     "name": "stdout",
     "output_type": "stream",
     "text": [
      "[1, 2, 3, 4, 5, 6, 7, 8]\n",
      "[1, 2, 3, 4, 1, 2, 3, 4, 1, 2, 3, 4]\n"
     ]
    }
   ],
   "source": [
    "l1=[1,2,3,4]\n",
    "l2=[5,6,7,8]\n",
    "\n",
    "print(l1 + l2)       #make a single list\n",
    "\n",
    "print(l1*3)          #repeat elemnts of l1 thrice"
   ]
  },
  {
   "cell_type": "code",
   "execution_count": 77,
   "id": "1b227de8",
   "metadata": {},
   "outputs": [
    {
     "data": {
      "text/plain": [
       "True"
      ]
     },
     "execution_count": 77,
     "metadata": {},
     "output_type": "execute_result"
    }
   ],
   "source": [
    "4 in l1"
   ]
  },
  {
   "cell_type": "code",
   "execution_count": 78,
   "id": "2e40806c",
   "metadata": {},
   "outputs": [
    {
     "data": {
      "text/plain": [
       "False"
      ]
     },
     "execution_count": 78,
     "metadata": {},
     "output_type": "execute_result"
    }
   ],
   "source": [
    "5 in l1"
   ]
  },
  {
   "cell_type": "markdown",
   "id": "961e19f6",
   "metadata": {},
   "source": [
    "### Functions in list "
   ]
  },
  {
   "cell_type": "code",
   "execution_count": 79,
   "id": "4821ed39",
   "metadata": {},
   "outputs": [
    {
     "data": {
      "text/plain": [
       "4"
      ]
     },
     "execution_count": 79,
     "metadata": {},
     "output_type": "execute_result"
    }
   ],
   "source": [
    "len(l1)       #tells about number of elements"
   ]
  },
  {
   "cell_type": "code",
   "execution_count": 80,
   "id": "d4cb8611",
   "metadata": {},
   "outputs": [
    {
     "data": {
      "text/plain": [
       "1"
      ]
     },
     "execution_count": 80,
     "metadata": {},
     "output_type": "execute_result"
    }
   ],
   "source": [
    "min(l1)       # smallest number"
   ]
  },
  {
   "cell_type": "code",
   "execution_count": 81,
   "id": "08674791",
   "metadata": {},
   "outputs": [
    {
     "data": {
      "text/plain": [
       "4"
      ]
     },
     "execution_count": 81,
     "metadata": {},
     "output_type": "execute_result"
    }
   ],
   "source": [
    "max(l1)       # largest element"
   ]
  },
  {
   "cell_type": "code",
   "execution_count": 82,
   "id": "15b16346",
   "metadata": {},
   "outputs": [
    {
     "data": {
      "text/plain": [
       "[2, 6, 3, 9, 7, 17, 34, 1]"
      ]
     },
     "execution_count": 82,
     "metadata": {},
     "output_type": "execute_result"
    }
   ],
   "source": [
    "l3=[2,6,3,9,7,17,34,1]\n",
    "l3"
   ]
  },
  {
   "cell_type": "code",
   "execution_count": 83,
   "id": "3f7dc1cf",
   "metadata": {},
   "outputs": [
    {
     "data": {
      "text/plain": [
       "[34, 17, 9, 7, 6, 3, 2, 1]"
      ]
     },
     "execution_count": 83,
     "metadata": {},
     "output_type": "execute_result"
    }
   ],
   "source": [
    "sorted(l3,reverse=True)       # sort in decreasing order but it is temporary"
   ]
  },
  {
   "cell_type": "code",
   "execution_count": 84,
   "id": "7f533be8",
   "metadata": {},
   "outputs": [
    {
     "data": {
      "text/plain": [
       "[2, 6, 3, 9, 7, 17, 34, 1]"
      ]
     },
     "execution_count": 84,
     "metadata": {},
     "output_type": "execute_result"
    }
   ],
   "source": [
    "l3"
   ]
  },
  {
   "cell_type": "code",
   "execution_count": 85,
   "id": "cc595174",
   "metadata": {},
   "outputs": [
    {
     "data": {
      "text/plain": [
       "[1, 2, 3, 6, 7, 9, 17, 34]"
      ]
     },
     "execution_count": 85,
     "metadata": {},
     "output_type": "execute_result"
    }
   ],
   "source": [
    "sorted(l3)                 #sort in incresing order and also temporary"
   ]
  },
  {
   "cell_type": "code",
   "execution_count": 86,
   "id": "91c0d921",
   "metadata": {},
   "outputs": [
    {
     "data": {
      "text/plain": [
       "[2, 6, 3, 9, 7, 17, 34, 1]"
      ]
     },
     "execution_count": 86,
     "metadata": {},
     "output_type": "execute_result"
    }
   ],
   "source": [
    "l3"
   ]
  },
  {
   "cell_type": "code",
   "execution_count": 87,
   "id": "07cb0db7",
   "metadata": {},
   "outputs": [],
   "source": [
    "# permanent sorting\n",
    "\n",
    "l3.sort()"
   ]
  },
  {
   "cell_type": "code",
   "execution_count": 88,
   "id": "f700f7cc",
   "metadata": {},
   "outputs": [
    {
     "data": {
      "text/plain": [
       "[1, 2, 3, 6, 7, 9, 17, 34]"
      ]
     },
     "execution_count": 88,
     "metadata": {},
     "output_type": "execute_result"
    }
   ],
   "source": [
    "l3"
   ]
  },
  {
   "cell_type": "code",
   "execution_count": 89,
   "id": "d3223422",
   "metadata": {},
   "outputs": [
    {
     "data": {
      "text/plain": [
       "[34, 17, 9, 7, 6, 3, 2, 1]"
      ]
     },
     "execution_count": 89,
     "metadata": {},
     "output_type": "execute_result"
    }
   ],
   "source": [
    "l3.sort(reverse=True)\n",
    "l3"
   ]
  },
  {
   "cell_type": "markdown",
   "id": "ed5407b7",
   "metadata": {},
   "source": [
    "## 6)Tuples \n",
    "Tuple is a collection which is ordered and unchangeable. Allows duplicate members\n",
    "\n",
    "- Not Mutable\n",
    "- Allows Duplicates Elements\n",
    "- Indexing is there\n",
    "- uses () parantheses"
   ]
  },
  {
   "cell_type": "code",
   "execution_count": 90,
   "id": "6dd81d7f",
   "metadata": {},
   "outputs": [],
   "source": [
    "# Creating empty tuple\n",
    "\n",
    "my_tuple=tuple()"
   ]
  },
  {
   "cell_type": "code",
   "execution_count": 91,
   "id": "3aded351",
   "metadata": {},
   "outputs": [
    {
     "data": {
      "text/plain": [
       "tuple"
      ]
     },
     "execution_count": 91,
     "metadata": {},
     "output_type": "execute_result"
    }
   ],
   "source": [
    "type(my_tuple)"
   ]
  },
  {
   "cell_type": "code",
   "execution_count": 92,
   "id": "efc9c86c",
   "metadata": {},
   "outputs": [
    {
     "name": "stdout",
     "output_type": "stream",
     "text": [
      "<class 'tuple'>\n"
     ]
    }
   ],
   "source": [
    "my_tuple=()\n",
    "print(type(my_tuple))"
   ]
  },
  {
   "cell_type": "code",
   "execution_count": 93,
   "id": "49961b81",
   "metadata": {},
   "outputs": [],
   "source": [
    "t1=('sarthak','aggarwal')"
   ]
  },
  {
   "cell_type": "code",
   "execution_count": 94,
   "id": "996f1ca8",
   "metadata": {},
   "outputs": [
    {
     "data": {
      "text/plain": [
       "'sarthak'"
      ]
     },
     "execution_count": 94,
     "metadata": {},
     "output_type": "execute_result"
    }
   ],
   "source": [
    "t1[0]"
   ]
  },
  {
   "cell_type": "code",
   "execution_count": 95,
   "id": "737fe9bb",
   "metadata": {},
   "outputs": [
    {
     "ename": "TypeError",
     "evalue": "'tuple' object does not support item assignment",
     "output_type": "error",
     "traceback": [
      "\u001b[1;31m---------------------------------------------------------------------------\u001b[0m",
      "\u001b[1;31mTypeError\u001b[0m                                 Traceback (most recent call last)",
      "\u001b[1;32m~\\AppData\\Local\\Temp\\ipykernel_9580\\2853841664.py\u001b[0m in \u001b[0;36m<module>\u001b[1;34m\u001b[0m\n\u001b[1;32m----> 1\u001b[1;33m \u001b[0mt1\u001b[0m\u001b[1;33m[\u001b[0m\u001b[1;36m1\u001b[0m\u001b[1;33m]\u001b[0m\u001b[1;33m=\u001b[0m\u001b[1;34m'hi'\u001b[0m       \u001b[1;31m#it is not mutable\u001b[0m\u001b[1;33m\u001b[0m\u001b[1;33m\u001b[0m\u001b[0m\n\u001b[0m",
      "\u001b[1;31mTypeError\u001b[0m: 'tuple' object does not support item assignment"
     ]
    }
   ],
   "source": [
    "t1[1]='hi'       #it is not mutable"
   ]
  },
  {
   "cell_type": "code",
   "execution_count": 96,
   "id": "8de3a3f8",
   "metadata": {},
   "outputs": [
    {
     "name": "stdout",
     "output_type": "stream",
     "text": [
      "['hlo', 'my', 'name', 'is', 'sarthak', 'aggarwal']\n"
     ]
    }
   ],
   "source": [
    "t2=['hlo','my','name','is','sarthak','aggarwal']\n",
    "print(t2)"
   ]
  },
  {
   "cell_type": "code",
   "execution_count": 97,
   "id": "aea9e8d3",
   "metadata": {},
   "outputs": [
    {
     "data": {
      "text/plain": [
       "1"
      ]
     },
     "execution_count": 97,
     "metadata": {},
     "output_type": "execute_result"
    }
   ],
   "source": [
    "t2.count('hlo')        #how many times hlo is appeared"
   ]
  },
  {
   "cell_type": "code",
   "execution_count": 98,
   "id": "22d38bbb",
   "metadata": {},
   "outputs": [
    {
     "data": {
      "text/plain": [
       "3"
      ]
     },
     "execution_count": 98,
     "metadata": {},
     "output_type": "execute_result"
    }
   ],
   "source": [
    "t2.index('is')         #index of is"
   ]
  },
  {
   "cell_type": "markdown",
   "id": "5f9b927c",
   "metadata": {},
   "source": [
    "## 7)Sets\n",
    "A Set is an unorderd collection data type that is iterable,mutable,and has no duplicate elements. Python's set class represents the mathematical notion of a set. This is based on a data structure known as hash table.\n",
    "\n",
    "- Contains diff data types\n",
    "- Mutable\n",
    "- No duplicates are allowed\n",
    "- No indexing\n",
    "- support mathematical operations\n",
    "- curly brackets is used {} to define sets"
   ]
  },
  {
   "cell_type": "code",
   "execution_count": 99,
   "id": "4aaa96e6",
   "metadata": {},
   "outputs": [
    {
     "name": "stdout",
     "output_type": "stream",
     "text": [
      "set()\n",
      "<class 'set'>\n"
     ]
    }
   ],
   "source": [
    "# Definining an empty set\n",
    "\n",
    "s1=set()\n",
    "print(s1)\n",
    "print(type(s1))"
   ]
  },
  {
   "cell_type": "code",
   "execution_count": 100,
   "id": "6196b0ff",
   "metadata": {},
   "outputs": [
    {
     "data": {
      "text/plain": [
       "{1, 2, 3, 4}"
      ]
     },
     "execution_count": 100,
     "metadata": {},
     "output_type": "execute_result"
    }
   ],
   "source": [
    "s2={1,2,3,4,3}\n",
    "s2                    # no duplicated elements is allowed-one element appeared once"
   ]
  },
  {
   "cell_type": "code",
   "execution_count": 101,
   "id": "f17afed2",
   "metadata": {},
   "outputs": [
    {
     "ename": "TypeError",
     "evalue": "'set' object is not subscriptable",
     "output_type": "error",
     "traceback": [
      "\u001b[1;31m---------------------------------------------------------------------------\u001b[0m",
      "\u001b[1;31mTypeError\u001b[0m                                 Traceback (most recent call last)",
      "\u001b[1;32m~\\AppData\\Local\\Temp\\ipykernel_9580\\764936621.py\u001b[0m in \u001b[0;36m<module>\u001b[1;34m\u001b[0m\n\u001b[1;32m----> 1\u001b[1;33m \u001b[0ms2\u001b[0m\u001b[1;33m[\u001b[0m\u001b[1;36m1\u001b[0m\u001b[1;33m]\u001b[0m                \u001b[1;31m# set doen't support indexing\u001b[0m\u001b[1;33m\u001b[0m\u001b[1;33m\u001b[0m\u001b[0m\n\u001b[0m",
      "\u001b[1;31mTypeError\u001b[0m: 'set' object is not subscriptable"
     ]
    }
   ],
   "source": [
    "s2[1]                # set doen't support indexing"
   ]
  },
  {
   "cell_type": "code",
   "execution_count": 102,
   "id": "139f966f",
   "metadata": {},
   "outputs": [
    {
     "name": "stdout",
     "output_type": "stream",
     "text": [
      "{'Hiii', 1, 2, 3, 4}\n"
     ]
    }
   ],
   "source": [
    "# Inbuilt functions in sets\n",
    "\n",
    "s2.add(\"Hiii\")        #add element is last and can contain multiple dtype\n",
    "print(s2)"
   ]
  },
  {
   "cell_type": "markdown",
   "id": "622c3d23",
   "metadata": {},
   "source": [
    "### Mathematical operations-Just like sets in maths"
   ]
  },
  {
   "cell_type": "code",
   "execution_count": 103,
   "id": "ea03e0e4",
   "metadata": {},
   "outputs": [],
   "source": [
    "set1= {1,2,3,4,5,6}\n",
    "set2= {1,4,7,9}"
   ]
  },
  {
   "cell_type": "code",
   "execution_count": 104,
   "id": "3629212a",
   "metadata": {},
   "outputs": [
    {
     "data": {
      "text/plain": [
       "{7, 9}"
      ]
     },
     "execution_count": 104,
     "metadata": {},
     "output_type": "execute_result"
    }
   ],
   "source": [
    "#set difference\n",
    "set2.difference(set1)         #Just like sets in Maths-temporary"
   ]
  },
  {
   "cell_type": "code",
   "execution_count": 105,
   "id": "b66003cd",
   "metadata": {},
   "outputs": [
    {
     "data": {
      "text/plain": [
       "{1, 4, 7, 9}"
      ]
     },
     "execution_count": 105,
     "metadata": {},
     "output_type": "execute_result"
    }
   ],
   "source": [
    "set2          #No change in set2 even after set diff operation"
   ]
  },
  {
   "cell_type": "code",
   "execution_count": 106,
   "id": "e04c71c3",
   "metadata": {},
   "outputs": [],
   "source": [
    "# Difference Update-permanent\n",
    "set2.difference_update(set1)"
   ]
  },
  {
   "cell_type": "code",
   "execution_count": 107,
   "id": "661105e5",
   "metadata": {},
   "outputs": [
    {
     "data": {
      "text/plain": [
       "{7, 9}"
      ]
     },
     "execution_count": 107,
     "metadata": {},
     "output_type": "execute_result"
    }
   ],
   "source": [
    "set2"
   ]
  },
  {
   "cell_type": "code",
   "execution_count": 108,
   "id": "ceb1b379",
   "metadata": {},
   "outputs": [],
   "source": [
    "set2={1,3,5,8}"
   ]
  },
  {
   "cell_type": "code",
   "execution_count": 109,
   "id": "f9d49701",
   "metadata": {},
   "outputs": [
    {
     "data": {
      "text/plain": [
       "{1, 3, 5}"
      ]
     },
     "execution_count": 109,
     "metadata": {},
     "output_type": "execute_result"
    }
   ],
   "source": [
    "set2.intersection(set1)              # returns common element in set1 and set2"
   ]
  },
  {
   "cell_type": "code",
   "execution_count": 110,
   "id": "d25b8c72",
   "metadata": {},
   "outputs": [
    {
     "data": {
      "text/plain": [
       "{1, 2, 3, 4, 5, 6, 8}"
      ]
     },
     "execution_count": 110,
     "metadata": {},
     "output_type": "execute_result"
    }
   ],
   "source": [
    "set2.union(set1)            # returns every elements of set1 and set2"
   ]
  },
  {
   "cell_type": "markdown",
   "id": "9f590f8a",
   "metadata": {},
   "source": [
    "## 8)Dictionary\n",
    "A dictionary is a collection which is unordered,changaeble and indexed. In Python dictionaries are written with curly brackets, and they have keys and values. Duplicates are not allowed in dictionary.\n",
    "\n",
    "- Mutable\n",
    "- Indexing is there\n",
    "- Duplicates are not allowed\n",
    "- curly brackets used with : and ,\n",
    "- key must be a single element\n",
    "- values can be any data type"
   ]
  },
  {
   "cell_type": "code",
   "execution_count": 111,
   "id": "e449c1ca",
   "metadata": {},
   "outputs": [
    {
     "data": {
      "text/plain": [
       "dict"
      ]
     },
     "execution_count": 111,
     "metadata": {},
     "output_type": "execute_result"
    }
   ],
   "source": [
    "dict={}\n",
    "type(dict)       #empty dictionary"
   ]
  },
  {
   "cell_type": "code",
   "execution_count": 112,
   "id": "5d21d41e",
   "metadata": {},
   "outputs": [
    {
     "data": {
      "text/plain": [
       "set"
      ]
     },
     "execution_count": 112,
     "metadata": {},
     "output_type": "execute_result"
    }
   ],
   "source": [
    "dict1={1}\n",
    "type(dict1)"
   ]
  },
  {
   "cell_type": "code",
   "execution_count": 113,
   "id": "939147a3",
   "metadata": {},
   "outputs": [
    {
     "data": {
      "text/plain": [
       "set"
      ]
     },
     "execution_count": 113,
     "metadata": {},
     "output_type": "execute_result"
    }
   ],
   "source": [
    "dict2=set()\n",
    "type(dict2)"
   ]
  },
  {
   "cell_type": "code",
   "execution_count": 114,
   "id": "30b41e7a",
   "metadata": {},
   "outputs": [],
   "source": [
    "# Creating a dictionary\n",
    "\n",
    "my_dict={\"rohan\":\"burger\", \"sohan\":\"pizza\"}"
   ]
  },
  {
   "cell_type": "code",
   "execution_count": 115,
   "id": "a2ec6624",
   "metadata": {},
   "outputs": [
    {
     "data": {
      "text/plain": [
       "{'rohan': 'burger', 'sohan': 'pizza'}"
      ]
     },
     "execution_count": 115,
     "metadata": {},
     "output_type": "execute_result"
    }
   ],
   "source": [
    "my_dict"
   ]
  },
  {
   "cell_type": "code",
   "execution_count": 116,
   "id": "2ebd6844",
   "metadata": {},
   "outputs": [
    {
     "data": {
      "text/plain": [
       "'burger'"
      ]
     },
     "execution_count": 116,
     "metadata": {},
     "output_type": "execute_result"
    }
   ],
   "source": [
    "# Access the item values based on keys\n",
    "\n",
    "my_dict['rohan']"
   ]
  },
  {
   "cell_type": "code",
   "execution_count": 117,
   "id": "7da67d99",
   "metadata": {},
   "outputs": [
    {
     "name": "stdout",
     "output_type": "stream",
     "text": [
      "rohan\n",
      "sohan\n"
     ]
    }
   ],
   "source": [
    "# We can even loop through the dict values\n",
    "\n",
    "for x in my_dict:\n",
    "    print(x)"
   ]
  },
  {
   "cell_type": "code",
   "execution_count": 118,
   "id": "9a61be07",
   "metadata": {},
   "outputs": [
    {
     "name": "stdout",
     "output_type": "stream",
     "text": [
      "burger\n",
      "pizza\n"
     ]
    }
   ],
   "source": [
    "for x in my_dict.values():\n",
    "    print(x)"
   ]
  },
  {
   "cell_type": "code",
   "execution_count": 119,
   "id": "74962a3c",
   "metadata": {},
   "outputs": [
    {
     "name": "stdout",
     "output_type": "stream",
     "text": [
      "('rohan', 'burger')\n",
      "('sohan', 'pizza')\n"
     ]
    }
   ],
   "source": [
    "# We can also check both keys and values\n",
    "for x in my_dict.items():\n",
    "    print(x)"
   ]
  },
  {
   "cell_type": "code",
   "execution_count": 120,
   "id": "0dddf438",
   "metadata": {},
   "outputs": [
    {
     "data": {
      "text/plain": [
       "{'rohan': 'burger', 'sohan': 'pizza', 'sahil': 'fries'}"
      ]
     },
     "execution_count": 120,
     "metadata": {},
     "output_type": "execute_result"
    }
   ],
   "source": [
    "# Adding items in dictionaries\n",
    "\n",
    "my_dict['sahil']=\"fries\"\n",
    "my_dict"
   ]
  },
  {
   "cell_type": "code",
   "execution_count": 121,
   "id": "2fa9f0f2",
   "metadata": {},
   "outputs": [
    {
     "data": {
      "text/plain": [
       "{'rohan': 'burger', 'sahil': 'fries'}"
      ]
     },
     "execution_count": 121,
     "metadata": {},
     "output_type": "execute_result"
    }
   ],
   "source": [
    "# deleting items in dictionary\n",
    "\n",
    "del my_dict['sohan']\n",
    "my_dict"
   ]
  },
  {
   "cell_type": "code",
   "execution_count": 122,
   "id": "257a0b73",
   "metadata": {},
   "outputs": [],
   "source": [
    "my_dict['sohan']='pizza'"
   ]
  },
  {
   "cell_type": "markdown",
   "id": "c7f469ee",
   "metadata": {},
   "source": [
    "### Nested dicitionary "
   ]
  },
  {
   "cell_type": "code",
   "execution_count": 123,
   "id": "db774534",
   "metadata": {},
   "outputs": [],
   "source": [
    "rohan_age={'bureger':17}\n",
    "sohan_age={'pizza':19}\n",
    "sahil_age={'fries':20}\n",
    "\n",
    "new_dict={'rohan':rohan_age,'sohan':sohan_age,'sahil':sahil_age}"
   ]
  },
  {
   "cell_type": "code",
   "execution_count": 124,
   "id": "b8138058",
   "metadata": {},
   "outputs": [
    {
     "data": {
      "text/plain": [
       "{'rohan': {'bureger': 17}, 'sohan': {'pizza': 19}, 'sahil': {'fries': 20}}"
      ]
     },
     "execution_count": 124,
     "metadata": {},
     "output_type": "execute_result"
    }
   ],
   "source": [
    "new_dict"
   ]
  },
  {
   "cell_type": "code",
   "execution_count": 125,
   "id": "aeba8a88",
   "metadata": {},
   "outputs": [
    {
     "name": "stdout",
     "output_type": "stream",
     "text": [
      "{'bureger': 17}\n"
     ]
    }
   ],
   "source": [
    "# Accessing the items in the dictionary\n",
    "print(new_dict['rohan'])"
   ]
  },
  {
   "cell_type": "code",
   "execution_count": 126,
   "id": "d106da4b",
   "metadata": {},
   "outputs": [
    {
     "name": "stdout",
     "output_type": "stream",
     "text": [
      "19\n"
     ]
    }
   ],
   "source": [
    "print(new_dict['sohan']['pizza'])"
   ]
  },
  {
   "cell_type": "markdown",
   "id": "cd15c6e6",
   "metadata": {},
   "source": [
    "## 9) Strings\n",
    "A String is a data structure in Python that represents a sequence of characters. It is an immutable data type, meaning that once you have created a string, you cannot change it."
   ]
  },
  {
   "cell_type": "code",
   "execution_count": 127,
   "id": "e50e7d0a",
   "metadata": {},
   "outputs": [
    {
     "name": "stdout",
     "output_type": "stream",
     "text": [
      "hello\n"
     ]
    },
    {
     "data": {
      "text/plain": [
       "str"
      ]
     },
     "execution_count": 127,
     "metadata": {},
     "output_type": "execute_result"
    }
   ],
   "source": [
    "# Creating strings\n",
    "\n",
    "a='hello'\n",
    "print(a)\n",
    "type(a)"
   ]
  },
  {
   "cell_type": "code",
   "execution_count": 128,
   "id": "9ad67b38",
   "metadata": {},
   "outputs": [
    {
     "name": "stdout",
     "output_type": "stream",
     "text": [
      "l\n",
      "r\n"
     ]
    }
   ],
   "source": [
    "# Accessing strings from a string\n",
    "\n",
    "b=\"Hello all I am Sarthak Aggarwal\"\n",
    "\n",
    "print(b[3])      # prints 4th string\n",
    "print(b[-4])     # orints last 4th string"
   ]
  },
  {
   "cell_type": "code",
   "execution_count": 129,
   "id": "41523431",
   "metadata": {},
   "outputs": [
    {
     "name": "stdout",
     "output_type": "stream",
     "text": [
      "loalIa \n"
     ]
    }
   ],
   "source": [
    "# string slicing\n",
    "\n",
    "print(b[2:16:2])    # [start index:end index:gap b/w index]"
   ]
  },
  {
   "cell_type": "code",
   "execution_count": 130,
   "id": "6fc92753",
   "metadata": {},
   "outputs": [
    {
     "name": "stdout",
     "output_type": "stream",
     "text": [
      "lawraggA kahtraS ma I lla olleH\n"
     ]
    }
   ],
   "source": [
    "print(b[::-1])      # it just reverse the string"
   ]
  },
  {
   "cell_type": "code",
   "execution_count": 131,
   "id": "71a02a02",
   "metadata": {},
   "outputs": [],
   "source": [
    "# editing and deleting \n",
    "\n",
    "del a"
   ]
  },
  {
   "cell_type": "code",
   "execution_count": 132,
   "id": "236762c0",
   "metadata": {},
   "outputs": [
    {
     "ename": "NameError",
     "evalue": "name 'a' is not defined",
     "output_type": "error",
     "traceback": [
      "\u001b[1;31m---------------------------------------------------------------------------\u001b[0m",
      "\u001b[1;31mNameError\u001b[0m                                 Traceback (most recent call last)",
      "\u001b[1;32m~\\AppData\\Local\\Temp\\ipykernel_9580\\1189138062.py\u001b[0m in \u001b[0;36m<module>\u001b[1;34m\u001b[0m\n\u001b[1;32m----> 1\u001b[1;33m \u001b[0mprint\u001b[0m\u001b[1;33m(\u001b[0m\u001b[0ma\u001b[0m\u001b[1;33m)\u001b[0m\u001b[1;33m\u001b[0m\u001b[1;33m\u001b[0m\u001b[0m\n\u001b[0m",
      "\u001b[1;31mNameError\u001b[0m: name 'a' is not defined"
     ]
    }
   ],
   "source": [
    "print(a)"
   ]
  },
  {
   "cell_type": "markdown",
   "id": "8628c2f2",
   "metadata": {},
   "source": [
    "### operations in strings "
   ]
  },
  {
   "cell_type": "code",
   "execution_count": 133,
   "id": "57aca674",
   "metadata": {},
   "outputs": [
    {
     "name": "stdout",
     "output_type": "stream",
     "text": [
      "helloworld\n",
      "hello-world\n",
      "$$$$$$$$$$$$$$$$$$$$\n"
     ]
    }
   ],
   "source": [
    "# Arithmetic Operators\n",
    "\n",
    "print(\"hello\"+\"world\")\n",
    "print(\"hello\"+\"-\"+\"world\")\n",
    "print(\"$\"*20)"
   ]
  },
  {
   "cell_type": "code",
   "execution_count": 134,
   "id": "8f500bfd",
   "metadata": {},
   "outputs": [
    {
     "data": {
      "text/plain": [
       "False"
      ]
     },
     "execution_count": 134,
     "metadata": {},
     "output_type": "execute_result"
    }
   ],
   "source": [
    "#Relational Operators- based on Lexiographically( Dictionary mei jo word pehle aayega wo small hoga)\n",
    "\n",
    "\"hello\"==\"world\""
   ]
  },
  {
   "cell_type": "code",
   "execution_count": 135,
   "id": "7949d95c",
   "metadata": {},
   "outputs": [
    {
     "data": {
      "text/plain": [
       "False"
      ]
     },
     "execution_count": 135,
     "metadata": {},
     "output_type": "execute_result"
    }
   ],
   "source": [
    "\"mumbai\">\"pune\""
   ]
  },
  {
   "cell_type": "code",
   "execution_count": 136,
   "id": "88a03d06",
   "metadata": {},
   "outputs": [
    {
     "data": {
      "text/plain": [
       "True"
      ]
     },
     "execution_count": 136,
     "metadata": {},
     "output_type": "execute_result"
    }
   ],
   "source": [
    "\"absolute\"<\"yoyo\""
   ]
  },
  {
   "cell_type": "code",
   "execution_count": 137,
   "id": "ea8fabce",
   "metadata": {},
   "outputs": [
    {
     "data": {
      "text/plain": [
       "''"
      ]
     },
     "execution_count": 137,
     "metadata": {},
     "output_type": "execute_result"
    }
   ],
   "source": [
    "# Logical Operators- \"\" -False        \"hi\"-True\n",
    "\n",
    "\"\" and \"hi\"     # false and true-false"
   ]
  },
  {
   "cell_type": "code",
   "execution_count": 138,
   "id": "c7865ec0",
   "metadata": {},
   "outputs": [
    {
     "data": {
      "text/plain": [
       "'hi'"
      ]
     },
     "execution_count": 138,
     "metadata": {},
     "output_type": "execute_result"
    }
   ],
   "source": [
    "\"\" or \"hi\"      #false or true-true"
   ]
  },
  {
   "cell_type": "code",
   "execution_count": 139,
   "id": "4812d23f",
   "metadata": {},
   "outputs": [
    {
     "data": {
      "text/plain": [
       "'hello'"
      ]
     },
     "execution_count": 139,
     "metadata": {},
     "output_type": "execute_result"
    }
   ],
   "source": [
    "\"hello\" or \"hi\"    #prints where it gets true so hello"
   ]
  },
  {
   "cell_type": "code",
   "execution_count": 140,
   "id": "98b1a2e9",
   "metadata": {},
   "outputs": [
    {
     "data": {
      "text/plain": [
       "'hi'"
      ]
     },
     "execution_count": 140,
     "metadata": {},
     "output_type": "execute_result"
    }
   ],
   "source": [
    "\"hello\" and \"hi\"      # get true after hi"
   ]
  },
  {
   "cell_type": "code",
   "execution_count": 141,
   "id": "3f52813c",
   "metadata": {},
   "outputs": [
    {
     "name": "stdout",
     "output_type": "stream",
     "text": [
      "d\n",
      "l\n",
      "r\n",
      "o\n",
      "w\n",
      " \n",
      "o\n",
      "l\n",
      "l\n",
      "l\n",
      "e\n",
      "h\n"
     ]
    }
   ],
   "source": [
    "# Loops on strings\n",
    "\n",
    "c=\"helllo world\"\n",
    "for i in c[::-1]:\n",
    "    print(i)"
   ]
  },
  {
   "cell_type": "code",
   "execution_count": 142,
   "id": "1dc49095",
   "metadata": {},
   "outputs": [
    {
     "data": {
      "text/plain": [
       "False"
      ]
     },
     "execution_count": 142,
     "metadata": {},
     "output_type": "execute_result"
    }
   ],
   "source": [
    "# Membership Operators\n",
    "\n",
    "\"hi\" in c"
   ]
  },
  {
   "cell_type": "code",
   "execution_count": 143,
   "id": "912cd090",
   "metadata": {},
   "outputs": [
    {
     "data": {
      "text/plain": [
       "True"
      ]
     },
     "execution_count": 143,
     "metadata": {},
     "output_type": "execute_result"
    }
   ],
   "source": [
    "\"h\" in c"
   ]
  },
  {
   "cell_type": "markdown",
   "id": "e10e8546",
   "metadata": {},
   "source": [
    "### Escape characters\n",
    "\\t-tab                                        \n",
    "\\n-new line                                                       \n",
    "\\b-backspace                                         "
   ]
  },
  {
   "cell_type": "code",
   "execution_count": 144,
   "id": "1cf84b14",
   "metadata": {},
   "outputs": [
    {
     "name": "stdout",
     "output_type": "stream",
     "text": [
      "hello\tworld\n",
      "hello\n",
      "world\n",
      "hello\bworld\n",
      "hello\\world\n"
     ]
    }
   ],
   "source": [
    "print(\"hello\\tworld\")\n",
    "print(\"hello\\nworld\")\n",
    "print(\"hello\\bworld\")\n",
    "print(\"hello\\\\world\")"
   ]
  },
  {
   "cell_type": "markdown",
   "id": "240d9997",
   "metadata": {},
   "source": [
    "### String Case Manipulative Function "
   ]
  },
  {
   "cell_type": "code",
   "execution_count": 145,
   "id": "80ba1f6b",
   "metadata": {},
   "outputs": [
    {
     "name": "stdout",
     "output_type": "stream",
     "text": [
      "hilo kaiso ho sab\n",
      "HILO KAISO HO SAB\n",
      "Hilo Kaiso Ho Sab\n",
      "Hilo kaiso ho sab\n",
      "hIlO KaISo ho SAb\n"
     ]
    }
   ],
   "source": [
    "Text=\"HiLo kAisO HO saB\"\n",
    "\n",
    "# string.lower()- Converts all letters to lowercase\n",
    "print(Text.lower())\n",
    "\n",
    "# string.upper()- Converts all letters to uppercase\n",
    "print(Text.upper())\n",
    "\n",
    "# string.title()- Converts all letters to titlecase\n",
    "print(Text.title())\n",
    "\n",
    "# string.capitalize()- Converts first letter to uppercase\n",
    "print(Text.capitalize())\n",
    "\n",
    "#string.swapcase()- Swaps the cases of all letters\n",
    "print(Text.swapcase())"
   ]
  },
  {
   "cell_type": "markdown",
   "id": "3266fe57",
   "metadata": {},
   "source": [
    "### Functions in string "
   ]
  },
  {
   "cell_type": "code",
   "execution_count": 146,
   "id": "c029a7e6",
   "metadata": {},
   "outputs": [
    {
     "name": "stdout",
     "output_type": "stream",
     "text": [
      "4\n"
     ]
    }
   ],
   "source": [
    "# Count function- Counts how many time a specific string occur\n",
    "\n",
    "Text=\"HiiKii\"\n",
    "print(Text.count(\"i\"))"
   ]
  },
  {
   "cell_type": "code",
   "execution_count": 147,
   "id": "ee45d0da",
   "metadata": {},
   "outputs": [
    {
     "data": {
      "text/plain": [
       "3"
      ]
     },
     "execution_count": 147,
     "metadata": {},
     "output_type": "execute_result"
    }
   ],
   "source": [
    "# find function- It prints the index number where that first string occur\n",
    "\n",
    "Text.find(\"K\")"
   ]
  },
  {
   "cell_type": "code",
   "execution_count": 148,
   "id": "0b9a3f4d",
   "metadata": {},
   "outputs": [
    {
     "name": "stdout",
     "output_type": "stream",
     "text": [
      "Dhoni---Kohli---Rohit\n"
     ]
    }
   ],
   "source": [
    "# Join function- We can join string by using a unique separation\n",
    "\n",
    "names=[\"Dhoni\",\"Kohli\",\"Rohit\"]\n",
    "sep= \"---\"\n",
    "print(sep.join(names))"
   ]
  },
  {
   "cell_type": "code",
   "execution_count": 149,
   "id": "57992d9f",
   "metadata": {},
   "outputs": [
    {
     "name": "stdout",
     "output_type": "stream",
     "text": [
      "Hii Guymz\n"
     ]
    }
   ],
   "source": [
    "# Replace function- It replaces a string with another string\n",
    "\n",
    "Text=\"Hii Guykz\"\n",
    "print(Text.replace(\"k\",\"m\"))"
   ]
  },
  {
   "cell_type": "code",
   "execution_count": 150,
   "id": "f2a79ab9",
   "metadata": {},
   "outputs": [
    {
     "name": "stdout",
     "output_type": "stream",
     "text": [
      "['anna', 'john', 'mary']\n"
     ]
    }
   ],
   "source": [
    "# split function- It Splits specific part of a string and put them in a list\n",
    "\n",
    "name=\"anna,john,mary\"\n",
    "print(name.split(\",\"))"
   ]
  },
  {
   "cell_type": "markdown",
   "id": "7242e0c3",
   "metadata": {},
   "source": [
    "## 10)Functions\n",
    "Python Functions is a block of statements that return the specific task. The idea is to put some commonly or repeatedly done tasks together and make a function so that instead of writing the same code again and again for different inputs, we can do the function calls to reuse code contained in it over and over again.\n",
    "\n",
    "Some Benefits of Using Functions\n",
    "\n",
    "- Increase Code Readability \n",
    "- Increase Code Reusability"
   ]
  },
  {
   "cell_type": "code",
   "execution_count": 151,
   "id": "c28635a5",
   "metadata": {},
   "outputs": [
    {
     "name": "stdout",
     "output_type": "stream",
     "text": [
      "hii\n"
     ]
    }
   ],
   "source": [
    "# Defining Function- use def keyword along with function name and ():\n",
    "\n",
    "def hello():      #function defined\n",
    "    print(\"hii\")\n",
    "hello()            #function called"
   ]
  },
  {
   "cell_type": "markdown",
   "id": "366137ee",
   "metadata": {},
   "source": [
    "### Parameters and arguments\n",
    "A parameter is the variable listed inside the parantheses in the function definition.\n",
    "\n",
    "An argument is the value that is sent to the function when it is called."
   ]
  },
  {
   "cell_type": "code",
   "execution_count": 152,
   "id": "32ef0134",
   "metadata": {},
   "outputs": [
    {
     "name": "stdout",
     "output_type": "stream",
     "text": [
      "57\n"
     ]
    }
   ],
   "source": [
    "def print_sum(a,b):     # a and b are parameters\n",
    "    print(a+b)\n",
    "print_sum(45,12)        # 45 and 12 are arguments"
   ]
  },
  {
   "cell_type": "markdown",
   "id": "1855b916",
   "metadata": {},
   "source": [
    "Number of paramters and arguments should be same"
   ]
  },
  {
   "cell_type": "markdown",
   "id": "f0a1f800",
   "metadata": {},
   "source": [
    "### Return values\n",
    "If we want to save the value, we use return argument keyword to save it in a variable"
   ]
  },
  {
   "cell_type": "code",
   "execution_count": 153,
   "id": "26cb4177",
   "metadata": {},
   "outputs": [
    {
     "name": "stdout",
     "output_type": "stream",
     "text": [
      "This is the average of 2 given numbers\n",
      "6.0\n"
     ]
    }
   ],
   "source": [
    "def avg(a,b):\n",
    "    \"\"\"This is the average of 2 given numbers\"\"\"     #Lines put in triple quotes just after defining function is called docstring\n",
    "    average=(a+b)/2\n",
    "    return average\n",
    "v=avg(5,7)        # average of 5 and 7 is stored in variable v\n",
    "print(avg.__doc__)      #syntax to print doctring\n",
    "print(v)"
   ]
  },
  {
   "cell_type": "markdown",
   "id": "180e5686",
   "metadata": {},
   "source": [
    "### Variable parameters \n",
    "We use asterisk symbol(*) in our paramters"
   ]
  },
  {
   "cell_type": "code",
   "execution_count": 154,
   "id": "4061e043",
   "metadata": {},
   "outputs": [
    {
     "name": "stdout",
     "output_type": "stream",
     "text": [
      "100\n"
     ]
    }
   ],
   "source": [
    "def print_sum(*numbers):\n",
    "    result=0\n",
    "    for x in numbers:\n",
    "        result=result+x\n",
    "    print(result)\n",
    "print_sum(10,20,30,40)"
   ]
  },
  {
   "cell_type": "markdown",
   "id": "7e93eb3c",
   "metadata": {},
   "source": [
    "### Scope "
   ]
  },
  {
   "cell_type": "code",
   "execution_count": 155,
   "id": "e0c4ad92",
   "metadata": {},
   "outputs": [
    {
     "ename": "NameError",
     "evalue": "name 'n' is not defined",
     "output_type": "error",
     "traceback": [
      "\u001b[1;31m---------------------------------------------------------------------------\u001b[0m",
      "\u001b[1;31mNameError\u001b[0m                                 Traceback (most recent call last)",
      "\u001b[1;32m~\\AppData\\Local\\Temp\\ipykernel_9580\\3885013658.py\u001b[0m in \u001b[0;36m<module>\u001b[1;34m\u001b[0m\n\u001b[0;32m      2\u001b[0m     \u001b[0mn\u001b[0m\u001b[1;33m=\u001b[0m\u001b[1;36m10\u001b[0m\u001b[1;33m\u001b[0m\u001b[1;33m\u001b[0m\u001b[0m\n\u001b[0;32m      3\u001b[0m     \u001b[0mprint\u001b[0m\u001b[1;33m(\u001b[0m\u001b[0mn\u001b[0m\u001b[1;33m)\u001b[0m\u001b[1;33m\u001b[0m\u001b[1;33m\u001b[0m\u001b[0m\n\u001b[1;32m----> 4\u001b[1;33m \u001b[0mprint\u001b[0m\u001b[1;33m(\u001b[0m\u001b[0mn\u001b[0m\u001b[1;33m)\u001b[0m     \u001b[1;31m# Can't access outside structure because it exists only inside the function\u001b[0m\u001b[1;33m\u001b[0m\u001b[1;33m\u001b[0m\u001b[0m\n\u001b[0m",
      "\u001b[1;31mNameError\u001b[0m: name 'n' is not defined"
     ]
    }
   ],
   "source": [
    "def function():\n",
    "    n=10\n",
    "    print(n)\n",
    "print(n)     # Can't access outside structure because it exists only inside the function"
   ]
  },
  {
   "cell_type": "code",
   "execution_count": 156,
   "id": "5fcdaffe",
   "metadata": {},
   "outputs": [
    {
     "name": "stdout",
     "output_type": "stream",
     "text": [
      "10\n"
     ]
    }
   ],
   "source": [
    "n=10\n",
    "def function():\n",
    "    print(n)\n",
    "function()     # it is a local variable. it works but we can't manipulate it"
   ]
  },
  {
   "cell_type": "code",
   "execution_count": 157,
   "id": "01d54d40",
   "metadata": {},
   "outputs": [
    {
     "name": "stdout",
     "output_type": "stream",
     "text": [
      "30\n"
     ]
    }
   ],
   "source": [
    "n=20\n",
    "def function():\n",
    "    global n\n",
    "    n=n+10\n",
    "    print(n)\n",
    "function()     # now we can manipulate it also as n is now a global variable"
   ]
  },
  {
   "cell_type": "markdown",
   "id": "8b1851f6",
   "metadata": {},
   "source": [
    "### Program "
   ]
  },
  {
   "cell_type": "code",
   "execution_count": 158,
   "id": "b8e5b061",
   "metadata": {},
   "outputs": [
    {
     "name": "stdout",
     "output_type": "stream",
     "text": [
      "Enter the number: 5\n",
      "The factorial of 5 is 120\n"
     ]
    }
   ],
   "source": [
    "# Factorial of a number(using loop)\n",
    "number = int(input(\"Enter the number: \"))\n",
    "\n",
    "factorial = 1\n",
    "if number == 0:\n",
    "    print(\"The factorial of 0 is 1\")\n",
    "else:\n",
    "    for i in range(1, number+1):           # range(1,6)= include 1 and exclude 6\n",
    "        factorial = factorial*i            \n",
    "print(\"The factorial of {} is {}\".format(number,factorial))"
   ]
  },
  {
   "cell_type": "markdown",
   "id": "739087b0",
   "metadata": {},
   "source": [
    "knqsknqaksn"
   ]
  },
  {
   "cell_type": "markdown",
   "id": "058be8ab",
   "metadata": {},
   "source": [
    "# kwnkw"
   ]
  },
  {
   "cell_type": "markdown",
   "id": "6ea27728",
   "metadata": {},
   "source": [
    "### sk "
   ]
  },
  {
   "cell_type": "code",
   "execution_count": null,
   "id": "a631537e",
   "metadata": {},
   "outputs": [],
   "source": []
  }
 ],
 "metadata": {
  "kernelspec": {
   "display_name": "Python 3 (ipykernel)",
   "language": "python",
   "name": "python3"
  },
  "language_info": {
   "codemirror_mode": {
    "name": "ipython",
    "version": 3
   },
   "file_extension": ".py",
   "mimetype": "text/x-python",
   "name": "python",
   "nbconvert_exporter": "python",
   "pygments_lexer": "ipython3",
   "version": "3.9.13"
  }
 },
 "nbformat": 4,
 "nbformat_minor": 5
}
